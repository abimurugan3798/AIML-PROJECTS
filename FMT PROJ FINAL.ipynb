{
 "cells": [
  {
   "cell_type": "code",
   "execution_count": 1,
   "id": "a9d6b6df",
   "metadata": {},
   "outputs": [
    {
     "name": "stdout",
     "output_type": "stream",
     "text": [
      "Requirement already satisfied: xgboost in c:\\users\\dell\\anaconda3\\lib\\site-packages (1.7.5)\n",
      "Requirement already satisfied: scipy in c:\\users\\dell\\anaconda3\\lib\\site-packages (from xgboost) (1.9.1)\n",
      "Requirement already satisfied: numpy in c:\\users\\dell\\anaconda3\\lib\\site-packages (from xgboost) (1.21.5)\n"
     ]
    }
   ],
   "source": [
    "import pandas as pd\n",
    "import numpy as np\n",
    "from sklearn.model_selection import train_test_split\n",
    "from sklearn.preprocessing import StandardScaler\n",
    "from sklearn.linear_model import LogisticRegression\n",
    "from sklearn.ensemble import RandomForestClassifier\n",
    "from sklearn.metrics import classification_report\n",
    "from sklearn.model_selection import cross_val_score, GridSearchCV\n",
    "import pickle\n",
    "from sklearn.pipeline import Pipeline\n",
    "import matplotlib.pyplot as plt\n",
    "import seaborn as sns\n",
    "import warnings\n",
    "warnings.filterwarnings('ignore')\n",
    "from scipy import stats\n",
    "from scipy.stats import ttest_ind\n",
    "from sklearn.model_selection import cross_val_score, KFold, StratifiedKFold, ShuffleSplit, LeaveOneOut, GroupKFold\n",
    "from sklearn.model_selection import GridSearchCV\n",
    "from imblearn.over_sampling import RandomOverSampler, SMOTE\n",
    "from imblearn.under_sampling import RandomUnderSampler\n",
    "from sklearn.model_selection import RandomizedSearchCV\n",
    "from sklearn.metrics import accuracy_score\n",
    "from sklearn.metrics import accuracy_score, precision_score, recall_score, f1_score, confusion_matrix\n",
    "from xgboost import XGBClassifier\n",
    "!pip install xgboost\n",
    "import xgboost as xgb\n",
    "from sklearn.svm import SVC\n",
    "from sklearn.tree import DecisionTreeClassifier\n",
    "from sklearn.neighbors import KNeighborsClassifier\n",
    "from sklearn.naive_bayes import GaussianNB\n",
    "from sklearn.ensemble import GradientBoostingClassifier\n",
    "from sklearn.decomposition import PCA"
   ]
  },
  {
   "cell_type": "markdown",
   "id": "5b3941d3",
   "metadata": {},
   "source": [
    "### Import and understand the data."
   ]
  },
  {
   "cell_type": "code",
   "execution_count": 2,
   "id": "818066f8",
   "metadata": {},
   "outputs": [],
   "source": [
    "df = pd.read_csv('signal-data.csv')"
   ]
  },
  {
   "cell_type": "code",
   "execution_count": 3,
   "id": "f44b40f4",
   "metadata": {},
   "outputs": [
    {
     "data": {
      "text/html": [
       "<div>\n",
       "<style scoped>\n",
       "    .dataframe tbody tr th:only-of-type {\n",
       "        vertical-align: middle;\n",
       "    }\n",
       "\n",
       "    .dataframe tbody tr th {\n",
       "        vertical-align: top;\n",
       "    }\n",
       "\n",
       "    .dataframe thead th {\n",
       "        text-align: right;\n",
       "    }\n",
       "</style>\n",
       "<table border=\"1\" class=\"dataframe\">\n",
       "  <thead>\n",
       "    <tr style=\"text-align: right;\">\n",
       "      <th></th>\n",
       "      <th>Time</th>\n",
       "      <th>0</th>\n",
       "      <th>1</th>\n",
       "      <th>2</th>\n",
       "      <th>3</th>\n",
       "      <th>4</th>\n",
       "      <th>5</th>\n",
       "      <th>6</th>\n",
       "      <th>7</th>\n",
       "      <th>8</th>\n",
       "      <th>...</th>\n",
       "      <th>581</th>\n",
       "      <th>582</th>\n",
       "      <th>583</th>\n",
       "      <th>584</th>\n",
       "      <th>585</th>\n",
       "      <th>586</th>\n",
       "      <th>587</th>\n",
       "      <th>588</th>\n",
       "      <th>589</th>\n",
       "      <th>Pass/Fail</th>\n",
       "    </tr>\n",
       "  </thead>\n",
       "  <tbody>\n",
       "    <tr>\n",
       "      <th>0</th>\n",
       "      <td>2008-07-19 11:55:00</td>\n",
       "      <td>3030.93</td>\n",
       "      <td>2564.00</td>\n",
       "      <td>2187.7333</td>\n",
       "      <td>1411.1265</td>\n",
       "      <td>1.3602</td>\n",
       "      <td>100.0</td>\n",
       "      <td>97.6133</td>\n",
       "      <td>0.1242</td>\n",
       "      <td>1.5005</td>\n",
       "      <td>...</td>\n",
       "      <td>NaN</td>\n",
       "      <td>0.5005</td>\n",
       "      <td>0.0118</td>\n",
       "      <td>0.0035</td>\n",
       "      <td>2.3630</td>\n",
       "      <td>NaN</td>\n",
       "      <td>NaN</td>\n",
       "      <td>NaN</td>\n",
       "      <td>NaN</td>\n",
       "      <td>-1</td>\n",
       "    </tr>\n",
       "    <tr>\n",
       "      <th>1</th>\n",
       "      <td>2008-07-19 12:32:00</td>\n",
       "      <td>3095.78</td>\n",
       "      <td>2465.14</td>\n",
       "      <td>2230.4222</td>\n",
       "      <td>1463.6606</td>\n",
       "      <td>0.8294</td>\n",
       "      <td>100.0</td>\n",
       "      <td>102.3433</td>\n",
       "      <td>0.1247</td>\n",
       "      <td>1.4966</td>\n",
       "      <td>...</td>\n",
       "      <td>208.2045</td>\n",
       "      <td>0.5019</td>\n",
       "      <td>0.0223</td>\n",
       "      <td>0.0055</td>\n",
       "      <td>4.4447</td>\n",
       "      <td>0.0096</td>\n",
       "      <td>0.0201</td>\n",
       "      <td>0.0060</td>\n",
       "      <td>208.2045</td>\n",
       "      <td>-1</td>\n",
       "    </tr>\n",
       "    <tr>\n",
       "      <th>2</th>\n",
       "      <td>2008-07-19 13:17:00</td>\n",
       "      <td>2932.61</td>\n",
       "      <td>2559.94</td>\n",
       "      <td>2186.4111</td>\n",
       "      <td>1698.0172</td>\n",
       "      <td>1.5102</td>\n",
       "      <td>100.0</td>\n",
       "      <td>95.4878</td>\n",
       "      <td>0.1241</td>\n",
       "      <td>1.4436</td>\n",
       "      <td>...</td>\n",
       "      <td>82.8602</td>\n",
       "      <td>0.4958</td>\n",
       "      <td>0.0157</td>\n",
       "      <td>0.0039</td>\n",
       "      <td>3.1745</td>\n",
       "      <td>0.0584</td>\n",
       "      <td>0.0484</td>\n",
       "      <td>0.0148</td>\n",
       "      <td>82.8602</td>\n",
       "      <td>1</td>\n",
       "    </tr>\n",
       "    <tr>\n",
       "      <th>3</th>\n",
       "      <td>2008-07-19 14:43:00</td>\n",
       "      <td>2988.72</td>\n",
       "      <td>2479.90</td>\n",
       "      <td>2199.0333</td>\n",
       "      <td>909.7926</td>\n",
       "      <td>1.3204</td>\n",
       "      <td>100.0</td>\n",
       "      <td>104.2367</td>\n",
       "      <td>0.1217</td>\n",
       "      <td>1.4882</td>\n",
       "      <td>...</td>\n",
       "      <td>73.8432</td>\n",
       "      <td>0.4990</td>\n",
       "      <td>0.0103</td>\n",
       "      <td>0.0025</td>\n",
       "      <td>2.0544</td>\n",
       "      <td>0.0202</td>\n",
       "      <td>0.0149</td>\n",
       "      <td>0.0044</td>\n",
       "      <td>73.8432</td>\n",
       "      <td>-1</td>\n",
       "    </tr>\n",
       "    <tr>\n",
       "      <th>4</th>\n",
       "      <td>2008-07-19 15:22:00</td>\n",
       "      <td>3032.24</td>\n",
       "      <td>2502.87</td>\n",
       "      <td>2233.3667</td>\n",
       "      <td>1326.5200</td>\n",
       "      <td>1.5334</td>\n",
       "      <td>100.0</td>\n",
       "      <td>100.3967</td>\n",
       "      <td>0.1235</td>\n",
       "      <td>1.5031</td>\n",
       "      <td>...</td>\n",
       "      <td>NaN</td>\n",
       "      <td>0.4800</td>\n",
       "      <td>0.4766</td>\n",
       "      <td>0.1045</td>\n",
       "      <td>99.3032</td>\n",
       "      <td>0.0202</td>\n",
       "      <td>0.0149</td>\n",
       "      <td>0.0044</td>\n",
       "      <td>73.8432</td>\n",
       "      <td>-1</td>\n",
       "    </tr>\n",
       "  </tbody>\n",
       "</table>\n",
       "<p>5 rows × 592 columns</p>\n",
       "</div>"
      ],
      "text/plain": [
       "                  Time        0        1          2          3       4      5  \\\n",
       "0  2008-07-19 11:55:00  3030.93  2564.00  2187.7333  1411.1265  1.3602  100.0   \n",
       "1  2008-07-19 12:32:00  3095.78  2465.14  2230.4222  1463.6606  0.8294  100.0   \n",
       "2  2008-07-19 13:17:00  2932.61  2559.94  2186.4111  1698.0172  1.5102  100.0   \n",
       "3  2008-07-19 14:43:00  2988.72  2479.90  2199.0333   909.7926  1.3204  100.0   \n",
       "4  2008-07-19 15:22:00  3032.24  2502.87  2233.3667  1326.5200  1.5334  100.0   \n",
       "\n",
       "          6       7       8  ...       581     582     583     584      585  \\\n",
       "0   97.6133  0.1242  1.5005  ...       NaN  0.5005  0.0118  0.0035   2.3630   \n",
       "1  102.3433  0.1247  1.4966  ...  208.2045  0.5019  0.0223  0.0055   4.4447   \n",
       "2   95.4878  0.1241  1.4436  ...   82.8602  0.4958  0.0157  0.0039   3.1745   \n",
       "3  104.2367  0.1217  1.4882  ...   73.8432  0.4990  0.0103  0.0025   2.0544   \n",
       "4  100.3967  0.1235  1.5031  ...       NaN  0.4800  0.4766  0.1045  99.3032   \n",
       "\n",
       "      586     587     588       589  Pass/Fail  \n",
       "0     NaN     NaN     NaN       NaN         -1  \n",
       "1  0.0096  0.0201  0.0060  208.2045         -1  \n",
       "2  0.0584  0.0484  0.0148   82.8602          1  \n",
       "3  0.0202  0.0149  0.0044   73.8432         -1  \n",
       "4  0.0202  0.0149  0.0044   73.8432         -1  \n",
       "\n",
       "[5 rows x 592 columns]"
      ]
     },
     "execution_count": 3,
     "metadata": {},
     "output_type": "execute_result"
    }
   ],
   "source": [
    "df.head()"
   ]
  },
  {
   "cell_type": "markdown",
   "id": "3971c725",
   "metadata": {},
   "source": [
    "### Print 5 point summary and share at least 2 observations"
   ]
  },
  {
   "cell_type": "code",
   "execution_count": 4,
   "id": "cfdd2111",
   "metadata": {},
   "outputs": [
    {
     "data": {
      "text/html": [
       "<div>\n",
       "<style scoped>\n",
       "    .dataframe tbody tr th:only-of-type {\n",
       "        vertical-align: middle;\n",
       "    }\n",
       "\n",
       "    .dataframe tbody tr th {\n",
       "        vertical-align: top;\n",
       "    }\n",
       "\n",
       "    .dataframe thead th {\n",
       "        text-align: right;\n",
       "    }\n",
       "</style>\n",
       "<table border=\"1\" class=\"dataframe\">\n",
       "  <thead>\n",
       "    <tr style=\"text-align: right;\">\n",
       "      <th></th>\n",
       "      <th>count</th>\n",
       "      <th>mean</th>\n",
       "      <th>std</th>\n",
       "      <th>min</th>\n",
       "      <th>25%</th>\n",
       "      <th>50%</th>\n",
       "      <th>75%</th>\n",
       "      <th>max</th>\n",
       "    </tr>\n",
       "  </thead>\n",
       "  <tbody>\n",
       "    <tr>\n",
       "      <th>0</th>\n",
       "      <td>1561.0</td>\n",
       "      <td>3014.452896</td>\n",
       "      <td>73.621787</td>\n",
       "      <td>2743.2400</td>\n",
       "      <td>2966.260000</td>\n",
       "      <td>3011.4900</td>\n",
       "      <td>3056.6500</td>\n",
       "      <td>3356.3500</td>\n",
       "    </tr>\n",
       "    <tr>\n",
       "      <th>1</th>\n",
       "      <td>1560.0</td>\n",
       "      <td>2495.850231</td>\n",
       "      <td>80.407705</td>\n",
       "      <td>2158.7500</td>\n",
       "      <td>2452.247500</td>\n",
       "      <td>2499.4050</td>\n",
       "      <td>2538.8225</td>\n",
       "      <td>2846.4400</td>\n",
       "    </tr>\n",
       "    <tr>\n",
       "      <th>2</th>\n",
       "      <td>1553.0</td>\n",
       "      <td>2200.547318</td>\n",
       "      <td>29.513152</td>\n",
       "      <td>2060.6600</td>\n",
       "      <td>2181.044400</td>\n",
       "      <td>2201.0667</td>\n",
       "      <td>2218.0555</td>\n",
       "      <td>2315.2667</td>\n",
       "    </tr>\n",
       "    <tr>\n",
       "      <th>3</th>\n",
       "      <td>1553.0</td>\n",
       "      <td>1396.376627</td>\n",
       "      <td>441.691640</td>\n",
       "      <td>0.0000</td>\n",
       "      <td>1081.875800</td>\n",
       "      <td>1285.2144</td>\n",
       "      <td>1591.2235</td>\n",
       "      <td>3715.0417</td>\n",
       "    </tr>\n",
       "    <tr>\n",
       "      <th>4</th>\n",
       "      <td>1553.0</td>\n",
       "      <td>4.197013</td>\n",
       "      <td>56.355540</td>\n",
       "      <td>0.6815</td>\n",
       "      <td>1.017700</td>\n",
       "      <td>1.3168</td>\n",
       "      <td>1.5257</td>\n",
       "      <td>1114.5366</td>\n",
       "    </tr>\n",
       "    <tr>\n",
       "      <th>...</th>\n",
       "      <td>...</td>\n",
       "      <td>...</td>\n",
       "      <td>...</td>\n",
       "      <td>...</td>\n",
       "      <td>...</td>\n",
       "      <td>...</td>\n",
       "      <td>...</td>\n",
       "      <td>...</td>\n",
       "    </tr>\n",
       "    <tr>\n",
       "      <th>586</th>\n",
       "      <td>1566.0</td>\n",
       "      <td>0.021458</td>\n",
       "      <td>0.012358</td>\n",
       "      <td>-0.0169</td>\n",
       "      <td>0.013425</td>\n",
       "      <td>0.0205</td>\n",
       "      <td>0.0276</td>\n",
       "      <td>0.1028</td>\n",
       "    </tr>\n",
       "    <tr>\n",
       "      <th>587</th>\n",
       "      <td>1566.0</td>\n",
       "      <td>0.016475</td>\n",
       "      <td>0.008808</td>\n",
       "      <td>0.0032</td>\n",
       "      <td>0.010600</td>\n",
       "      <td>0.0148</td>\n",
       "      <td>0.0203</td>\n",
       "      <td>0.0799</td>\n",
       "    </tr>\n",
       "    <tr>\n",
       "      <th>588</th>\n",
       "      <td>1566.0</td>\n",
       "      <td>0.005283</td>\n",
       "      <td>0.002867</td>\n",
       "      <td>0.0010</td>\n",
       "      <td>0.003300</td>\n",
       "      <td>0.0046</td>\n",
       "      <td>0.0064</td>\n",
       "      <td>0.0286</td>\n",
       "    </tr>\n",
       "    <tr>\n",
       "      <th>589</th>\n",
       "      <td>1566.0</td>\n",
       "      <td>99.670066</td>\n",
       "      <td>93.891919</td>\n",
       "      <td>0.0000</td>\n",
       "      <td>44.368600</td>\n",
       "      <td>71.9005</td>\n",
       "      <td>114.7497</td>\n",
       "      <td>737.3048</td>\n",
       "    </tr>\n",
       "    <tr>\n",
       "      <th>Pass/Fail</th>\n",
       "      <td>1567.0</td>\n",
       "      <td>-0.867262</td>\n",
       "      <td>0.498010</td>\n",
       "      <td>-1.0000</td>\n",
       "      <td>-1.000000</td>\n",
       "      <td>-1.0000</td>\n",
       "      <td>-1.0000</td>\n",
       "      <td>1.0000</td>\n",
       "    </tr>\n",
       "  </tbody>\n",
       "</table>\n",
       "<p>591 rows × 8 columns</p>\n",
       "</div>"
      ],
      "text/plain": [
       "            count         mean         std        min          25%        50%  \\\n",
       "0          1561.0  3014.452896   73.621787  2743.2400  2966.260000  3011.4900   \n",
       "1          1560.0  2495.850231   80.407705  2158.7500  2452.247500  2499.4050   \n",
       "2          1553.0  2200.547318   29.513152  2060.6600  2181.044400  2201.0667   \n",
       "3          1553.0  1396.376627  441.691640     0.0000  1081.875800  1285.2144   \n",
       "4          1553.0     4.197013   56.355540     0.6815     1.017700     1.3168   \n",
       "...           ...          ...         ...        ...          ...        ...   \n",
       "586        1566.0     0.021458    0.012358    -0.0169     0.013425     0.0205   \n",
       "587        1566.0     0.016475    0.008808     0.0032     0.010600     0.0148   \n",
       "588        1566.0     0.005283    0.002867     0.0010     0.003300     0.0046   \n",
       "589        1566.0    99.670066   93.891919     0.0000    44.368600    71.9005   \n",
       "Pass/Fail  1567.0    -0.867262    0.498010    -1.0000    -1.000000    -1.0000   \n",
       "\n",
       "                 75%        max  \n",
       "0          3056.6500  3356.3500  \n",
       "1          2538.8225  2846.4400  \n",
       "2          2218.0555  2315.2667  \n",
       "3          1591.2235  3715.0417  \n",
       "4             1.5257  1114.5366  \n",
       "...              ...        ...  \n",
       "586           0.0276     0.1028  \n",
       "587           0.0203     0.0799  \n",
       "588           0.0064     0.0286  \n",
       "589         114.7497   737.3048  \n",
       "Pass/Fail    -1.0000     1.0000  \n",
       "\n",
       "[591 rows x 8 columns]"
      ]
     },
     "execution_count": 4,
     "metadata": {},
     "output_type": "execute_result"
    }
   ],
   "source": [
    "df.describe().transpose()"
   ]
  },
  {
   "cell_type": "markdown",
   "id": "77f0981b",
   "metadata": {},
   "source": [
    "### Observations:\n",
    "1. There are some features with missing values as indicated by the count being less than the total number of datapoints. The first feature has a relatively high mean value of 3014.45 with a small standard deviation of 73.62, indicating that the data points are tightly clustered around the mean. The range between the 25th percentile (2966.26) and the 75th percentile (3056.65) is relatively small, suggesting that there may not be significant variations in this feature.\n",
    "\n",
    "2. The second feature has a lower mean value of 2495.85 compared to the first feature. The standard deviation is relatively higher at 80.41, indicating a wider spread of data points. The range between the 25th percentile (2452.25) and the 75th percentile (2538.82) is also larger than the first feature, suggesting a wider distribution.\n",
    "\n",
    "3. The third feature has a lower mean value of 2200.55 with a small standard deviation of 29.51. The range between the 25th percentile (2181.04) and the 75th percentile (2218.06) is relatively narrow, indicating a relatively small spread of data points. This feature seems to have less variability compared to the previous two features.\n",
    "\n",
    "4. The fourth feature has a mean value of 1396.38 with a relatively high standard deviation of 441.69. The minimum value is 0, indicating the presence of zero values in the dataset. The range between the 25th percentile (1081.88) and the 75th percentile (1591.22) is wide, suggesting a significant spread of data points. This feature may have some outliers or extreme values.\n",
    "\n",
    "5. The fifth feature has a mean value of 4.20 with a relatively small standard deviation of 56.36. The minimum value is 0.6815, indicating that the data points in this feature are positively skewed. The 75th percentile (1.53) is much smaller than the maximum value (1114.54), indicating the presence of outliers or extreme values."
   ]
  },
  {
   "cell_type": "markdown",
   "id": "e2f404cd",
   "metadata": {},
   "source": [
    "# Data cleansing:"
   ]
  },
  {
   "cell_type": "markdown",
   "id": "e3b28b4f",
   "metadata": {},
   "source": [
    "### Write a for loop which will remove all the features with 20%+ Null values and impute rest with mean of the feature."
   ]
  },
  {
   "cell_type": "code",
   "execution_count": 5,
   "id": "3c13daa3",
   "metadata": {},
   "outputs": [],
   "source": [
    "null_threshold = len(df) * 0.2\n",
    "numeric_columns = df.select_dtypes(include=[np.number]).columns\n",
    "\n",
    "for column in numeric_columns:\n",
    "    null_count = df[column].isnull().sum()\n",
    "    if null_count / len(df) >= 0.2:\n",
    "        df = df.drop(column, axis=1)\n",
    "    else:\n",
    "        df[column].fillna(df[column].mean(), inplace=True)"
   ]
  },
  {
   "cell_type": "code",
   "execution_count": 6,
   "id": "7527d3b1",
   "metadata": {},
   "outputs": [
    {
     "name": "stdout",
     "output_type": "stream",
     "text": [
      "No null values remaining in the DataFrame\n"
     ]
    }
   ],
   "source": [
    "null_count = df.isnull().sum().sum()\n",
    "if null_count == 0:\n",
    "    print(\"No null values remaining in the DataFrame\")\n",
    "else:\n",
    "    print(\"Null values still present in the DataFrame\")"
   ]
  },
  {
   "cell_type": "markdown",
   "id": "be404e82",
   "metadata": {},
   "source": [
    "### Identify and drop the features which are having same value for all the rows."
   ]
  },
  {
   "cell_type": "code",
   "execution_count": 7,
   "id": "717a9e08",
   "metadata": {},
   "outputs": [],
   "source": [
    "same_value_columns = []\n",
    "for column in df.columns:\n",
    "    if df[column].nunique() == 1:\n",
    "        same_value_columns.append(column)\n",
    "\n",
    "df.drop(same_value_columns, axis=1, inplace=True)"
   ]
  },
  {
   "cell_type": "code",
   "execution_count": 8,
   "id": "22cf85f8",
   "metadata": {},
   "outputs": [
    {
     "data": {
      "text/html": [
       "<div>\n",
       "<style scoped>\n",
       "    .dataframe tbody tr th:only-of-type {\n",
       "        vertical-align: middle;\n",
       "    }\n",
       "\n",
       "    .dataframe tbody tr th {\n",
       "        vertical-align: top;\n",
       "    }\n",
       "\n",
       "    .dataframe thead th {\n",
       "        text-align: right;\n",
       "    }\n",
       "</style>\n",
       "<table border=\"1\" class=\"dataframe\">\n",
       "  <thead>\n",
       "    <tr style=\"text-align: right;\">\n",
       "      <th></th>\n",
       "      <th>Time</th>\n",
       "      <th>0</th>\n",
       "      <th>1</th>\n",
       "      <th>2</th>\n",
       "      <th>3</th>\n",
       "      <th>4</th>\n",
       "      <th>6</th>\n",
       "      <th>7</th>\n",
       "      <th>8</th>\n",
       "      <th>9</th>\n",
       "      <th>...</th>\n",
       "      <th>577</th>\n",
       "      <th>582</th>\n",
       "      <th>583</th>\n",
       "      <th>584</th>\n",
       "      <th>585</th>\n",
       "      <th>586</th>\n",
       "      <th>587</th>\n",
       "      <th>588</th>\n",
       "      <th>589</th>\n",
       "      <th>Pass/Fail</th>\n",
       "    </tr>\n",
       "  </thead>\n",
       "  <tbody>\n",
       "    <tr>\n",
       "      <th>0</th>\n",
       "      <td>2008-07-19 11:55:00</td>\n",
       "      <td>3030.93</td>\n",
       "      <td>2564.00</td>\n",
       "      <td>2187.7333</td>\n",
       "      <td>1411.1265</td>\n",
       "      <td>1.3602</td>\n",
       "      <td>97.6133</td>\n",
       "      <td>0.1242</td>\n",
       "      <td>1.5005</td>\n",
       "      <td>0.0162</td>\n",
       "      <td>...</td>\n",
       "      <td>14.9509</td>\n",
       "      <td>0.5005</td>\n",
       "      <td>0.0118</td>\n",
       "      <td>0.0035</td>\n",
       "      <td>2.3630</td>\n",
       "      <td>0.021458</td>\n",
       "      <td>0.016475</td>\n",
       "      <td>0.005283</td>\n",
       "      <td>99.670066</td>\n",
       "      <td>-1</td>\n",
       "    </tr>\n",
       "    <tr>\n",
       "      <th>1</th>\n",
       "      <td>2008-07-19 12:32:00</td>\n",
       "      <td>3095.78</td>\n",
       "      <td>2465.14</td>\n",
       "      <td>2230.4222</td>\n",
       "      <td>1463.6606</td>\n",
       "      <td>0.8294</td>\n",
       "      <td>102.3433</td>\n",
       "      <td>0.1247</td>\n",
       "      <td>1.4966</td>\n",
       "      <td>-0.0005</td>\n",
       "      <td>...</td>\n",
       "      <td>10.9003</td>\n",
       "      <td>0.5019</td>\n",
       "      <td>0.0223</td>\n",
       "      <td>0.0055</td>\n",
       "      <td>4.4447</td>\n",
       "      <td>0.009600</td>\n",
       "      <td>0.020100</td>\n",
       "      <td>0.006000</td>\n",
       "      <td>208.204500</td>\n",
       "      <td>-1</td>\n",
       "    </tr>\n",
       "    <tr>\n",
       "      <th>2</th>\n",
       "      <td>2008-07-19 13:17:00</td>\n",
       "      <td>2932.61</td>\n",
       "      <td>2559.94</td>\n",
       "      <td>2186.4111</td>\n",
       "      <td>1698.0172</td>\n",
       "      <td>1.5102</td>\n",
       "      <td>95.4878</td>\n",
       "      <td>0.1241</td>\n",
       "      <td>1.4436</td>\n",
       "      <td>0.0041</td>\n",
       "      <td>...</td>\n",
       "      <td>9.2721</td>\n",
       "      <td>0.4958</td>\n",
       "      <td>0.0157</td>\n",
       "      <td>0.0039</td>\n",
       "      <td>3.1745</td>\n",
       "      <td>0.058400</td>\n",
       "      <td>0.048400</td>\n",
       "      <td>0.014800</td>\n",
       "      <td>82.860200</td>\n",
       "      <td>1</td>\n",
       "    </tr>\n",
       "    <tr>\n",
       "      <th>3</th>\n",
       "      <td>2008-07-19 14:43:00</td>\n",
       "      <td>2988.72</td>\n",
       "      <td>2479.90</td>\n",
       "      <td>2199.0333</td>\n",
       "      <td>909.7926</td>\n",
       "      <td>1.3204</td>\n",
       "      <td>104.2367</td>\n",
       "      <td>0.1217</td>\n",
       "      <td>1.4882</td>\n",
       "      <td>-0.0124</td>\n",
       "      <td>...</td>\n",
       "      <td>8.5831</td>\n",
       "      <td>0.4990</td>\n",
       "      <td>0.0103</td>\n",
       "      <td>0.0025</td>\n",
       "      <td>2.0544</td>\n",
       "      <td>0.020200</td>\n",
       "      <td>0.014900</td>\n",
       "      <td>0.004400</td>\n",
       "      <td>73.843200</td>\n",
       "      <td>-1</td>\n",
       "    </tr>\n",
       "    <tr>\n",
       "      <th>4</th>\n",
       "      <td>2008-07-19 15:22:00</td>\n",
       "      <td>3032.24</td>\n",
       "      <td>2502.87</td>\n",
       "      <td>2233.3667</td>\n",
       "      <td>1326.5200</td>\n",
       "      <td>1.5334</td>\n",
       "      <td>100.3967</td>\n",
       "      <td>0.1235</td>\n",
       "      <td>1.5031</td>\n",
       "      <td>-0.0031</td>\n",
       "      <td>...</td>\n",
       "      <td>10.9698</td>\n",
       "      <td>0.4800</td>\n",
       "      <td>0.4766</td>\n",
       "      <td>0.1045</td>\n",
       "      <td>99.3032</td>\n",
       "      <td>0.020200</td>\n",
       "      <td>0.014900</td>\n",
       "      <td>0.004400</td>\n",
       "      <td>73.843200</td>\n",
       "      <td>-1</td>\n",
       "    </tr>\n",
       "  </tbody>\n",
       "</table>\n",
       "<p>5 rows × 444 columns</p>\n",
       "</div>"
      ],
      "text/plain": [
       "                  Time        0        1          2          3       4  \\\n",
       "0  2008-07-19 11:55:00  3030.93  2564.00  2187.7333  1411.1265  1.3602   \n",
       "1  2008-07-19 12:32:00  3095.78  2465.14  2230.4222  1463.6606  0.8294   \n",
       "2  2008-07-19 13:17:00  2932.61  2559.94  2186.4111  1698.0172  1.5102   \n",
       "3  2008-07-19 14:43:00  2988.72  2479.90  2199.0333   909.7926  1.3204   \n",
       "4  2008-07-19 15:22:00  3032.24  2502.87  2233.3667  1326.5200  1.5334   \n",
       "\n",
       "          6       7       8       9  ...      577     582     583     584  \\\n",
       "0   97.6133  0.1242  1.5005  0.0162  ...  14.9509  0.5005  0.0118  0.0035   \n",
       "1  102.3433  0.1247  1.4966 -0.0005  ...  10.9003  0.5019  0.0223  0.0055   \n",
       "2   95.4878  0.1241  1.4436  0.0041  ...   9.2721  0.4958  0.0157  0.0039   \n",
       "3  104.2367  0.1217  1.4882 -0.0124  ...   8.5831  0.4990  0.0103  0.0025   \n",
       "4  100.3967  0.1235  1.5031 -0.0031  ...  10.9698  0.4800  0.4766  0.1045   \n",
       "\n",
       "       585       586       587       588         589  Pass/Fail  \n",
       "0   2.3630  0.021458  0.016475  0.005283   99.670066         -1  \n",
       "1   4.4447  0.009600  0.020100  0.006000  208.204500         -1  \n",
       "2   3.1745  0.058400  0.048400  0.014800   82.860200          1  \n",
       "3   2.0544  0.020200  0.014900  0.004400   73.843200         -1  \n",
       "4  99.3032  0.020200  0.014900  0.004400   73.843200         -1  \n",
       "\n",
       "[5 rows x 444 columns]"
      ]
     },
     "execution_count": 8,
     "metadata": {},
     "output_type": "execute_result"
    }
   ],
   "source": [
    "df.head()"
   ]
  },
  {
   "cell_type": "code",
   "execution_count": 9,
   "id": "847ad4c6",
   "metadata": {},
   "outputs": [
    {
     "data": {
      "text/plain": [
       "(1567, 444)"
      ]
     },
     "execution_count": 9,
     "metadata": {},
     "output_type": "execute_result"
    }
   ],
   "source": [
    "df.shape"
   ]
  },
  {
   "cell_type": "code",
   "execution_count": 10,
   "id": "bcbc2d33",
   "metadata": {},
   "outputs": [],
   "source": [
    "df = df.drop(columns = ['Time'], axis = 1)"
   ]
  },
  {
   "cell_type": "markdown",
   "id": "947e4984",
   "metadata": {},
   "source": [
    "### Drop other features if required using relevant functional knowledge. Clearly justify the same."
   ]
  },
  {
   "cell_type": "markdown",
   "id": "fb55ad0b",
   "metadata": {},
   "source": [
    "We can remove the features with standard deviation of 0, indicating that these columns have constant values and do not provide any useful information for modeling or analysis. By dropping such columns, it helps to reduce noise and improve the efficiency of the subsequent steps."
   ]
  },
  {
   "cell_type": "code",
   "execution_count": 11,
   "id": "70df3e4d",
   "metadata": {},
   "outputs": [],
   "source": [
    "cols = df.select_dtypes([np.number]).columns\n",
    "std = df[cols].std()\n",
    "cols_to_drop = std[std==0].index\n",
    "df.drop(cols_to_drop, axis=1,inplace=True)"
   ]
  },
  {
   "cell_type": "markdown",
   "id": "1f742972",
   "metadata": {},
   "source": [
    "We can also drop columns from a DataFrame that have low variance below a specified threshold (0.1). Columns with low variance indicate that the values in those columns do not vary much and may not contribute significantly to the analysis."
   ]
  },
  {
   "cell_type": "code",
   "execution_count": 12,
   "id": "9027afd1",
   "metadata": {},
   "outputs": [],
   "source": [
    "threshold = 0.1  \n",
    "\n",
    "variances = df.var()\n",
    "low_variance_features = variances[variances < threshold].index\n",
    "df.drop(columns=low_variance_features, inplace=True)"
   ]
  },
  {
   "cell_type": "code",
   "execution_count": 13,
   "id": "8b8ea485",
   "metadata": {},
   "outputs": [
    {
     "data": {
      "text/plain": [
       "(1567, 255)"
      ]
     },
     "execution_count": 13,
     "metadata": {},
     "output_type": "execute_result"
    }
   ],
   "source": [
    "df.shape"
   ]
  },
  {
   "cell_type": "markdown",
   "id": "250a4f0e",
   "metadata": {},
   "source": [
    "### Check for multi-collinearity in the data and take necessary action."
   ]
  },
  {
   "cell_type": "code",
   "execution_count": 14,
   "id": "8e5da4f5",
   "metadata": {},
   "outputs": [],
   "source": [
    "correlation_matrix = df.corr()\n",
    "\n",
    "highly_correlated_features = set()\n",
    "\n",
    "for i in range(len(correlation_matrix.columns)):\n",
    "    for j in range(i):\n",
    "        if abs(correlation_matrix.iloc[i, j]) > 0.8:\n",
    "            colname = correlation_matrix.columns[i]\n",
    "            highly_correlated_features.add(colname)\n",
    "\n",
    "df.drop(columns=highly_correlated_features, inplace=True)"
   ]
  },
  {
   "cell_type": "code",
   "execution_count": 15,
   "id": "9000d125",
   "metadata": {},
   "outputs": [
    {
     "data": {
      "text/plain": [
       "(1567, 140)"
      ]
     },
     "execution_count": 15,
     "metadata": {},
     "output_type": "execute_result"
    }
   ],
   "source": [
    "df.shape"
   ]
  },
  {
   "cell_type": "markdown",
   "id": "2ef8f965",
   "metadata": {},
   "source": [
    "### Make all relevant modifications on the data using both functional/logical reasoning/assumptions."
   ]
  },
  {
   "cell_type": "markdown",
   "id": "7659dffa",
   "metadata": {},
   "source": [
    "#### We have handled missing values in a DataFrame for numeric columns. This approach helps handle missing values in the data while considering the threshold for retaining or removing columns based on the amount of missingness.\n",
    "#### Columns with the same value in all rows will be dropped from the DataFrame. This step helps to eliminate features that do not provide any variation and have no impact on the analysis or modeling process.\n",
    "#### Columns that are highly correlated with each other (with an absolute correlation value greater than 0.8) will be dropped from the DataFrame. This helps to address multicollinearity and improve the independence of features in the dataset."
   ]
  },
  {
   "cell_type": "markdown",
   "id": "d2d8dbae",
   "metadata": {},
   "source": [
    "## Data analysis & visualisation:"
   ]
  },
  {
   "cell_type": "markdown",
   "id": "786ee8a0",
   "metadata": {},
   "source": [
    "### Perform a detailed univariate Analysis with appropriate detailed comments after each analysis"
   ]
  },
  {
   "cell_type": "code",
   "execution_count": 16,
   "id": "eca727f5",
   "metadata": {},
   "outputs": [
    {
     "data": {
      "image/png": "[encoded data removed]",
      "text/plain": [
       "<Figure size 640x480 with 1 Axes>"
      ]
     },
     "metadata": {},
     "output_type": "display_data"
    },
    {
     "name": "stdout",
     "output_type": "stream",
     "text": [
      "Descriptive Statistics for 2:\n",
      "count    1567.000000\n",
      "mean     2200.547318\n",
      "std        29.380932\n",
      "min      2060.660000\n",
      "25%      2181.099950\n",
      "50%      2200.955600\n",
      "75%      2218.055500\n",
      "max      2315.266700\n",
      "Name: 2, dtype: float64\n",
      "\n"
     ]
    },
    {
     "data": {
      "image/png": "[encoded data removed]",
      "text/plain": [
       "<Figure size 640x480 with 1 Axes>"
      ]
     },
     "metadata": {},
     "output_type": "display_data"
    },
    {
     "name": "stdout",
     "output_type": "stream",
     "text": [
      "Descriptive Statistics for 4:\n",
      "count    1567.000000\n",
      "mean        4.197013\n",
      "std        56.103066\n",
      "min         0.681500\n",
      "25%         1.017700\n",
      "50%         1.317100\n",
      "75%         1.529600\n",
      "max      1114.536600\n",
      "Name: 4, dtype: float64\n",
      "\n"
     ]
    },
    {
     "data": {
      "image/png": "[encoded data removed]",
      "text/plain": [
       "<Figure size 640x480 with 1 Axes>"
      ]
     },
     "metadata": {},
     "output_type": "display_data"
    },
    {
     "name": "stdout",
     "output_type": "stream",
     "text": [
      "Descriptive Statistics for 12:\n",
      "count    1567.000000\n",
      "mean      199.956809\n",
      "std         3.255195\n",
      "min       182.094000\n",
      "25%       198.130950\n",
      "50%       199.537100\n",
      "75%       202.006750\n",
      "max       272.045100\n",
      "Name: 12, dtype: float64\n",
      "\n"
     ]
    }
   ],
   "source": [
    "variables = ['2', '4', '12']\n",
    "\n",
    "for var in variables:\n",
    "    sns.histplot(df[var])\n",
    "    plt.title(f'Univariate Analysis of {var}')\n",
    "    plt.xlabel(var)\n",
    "    plt.ylabel('Frequency')\n",
    "    plt.show()\n",
    "\n",
    "    stats = df[var].describe()\n",
    "    print(f\"Descriptive Statistics for {var}:\")\n",
    "    print(stats)\n",
    "    print()"
   ]
  },
  {
   "cell_type": "markdown",
   "id": "ecf1d6de",
   "metadata": {},
   "source": [
    "### Perform bivariate and multivariate analysis with appropriate detailed comments after each analysis."
   ]
  },
  {
   "cell_type": "code",
   "execution_count": 17,
   "id": "ab51aec7",
   "metadata": {},
   "outputs": [
    {
     "data": {
      "image/png": "[encoded data removed]",
      "text/plain": [
       "<Figure size 640x480 with 1 Axes>"
      ]
     },
     "metadata": {},
     "output_type": "display_data"
    },
    {
     "data": {
      "image/png": "[encoded data removed]",
      "text/plain": [
       "<Figure size 1000x1000 with 20 Axes>"
      ]
     },
     "metadata": {},
     "output_type": "display_data"
    },
    {
     "data": {
      "image/png": "[encoded data removed]",
      "text/plain": [
       "<Figure size 1000x1000 with 20 Axes>"
      ]
     },
     "metadata": {},
     "output_type": "display_data"
    }
   ],
   "source": [
    "# Select the variables for bivariate analysis\n",
    "variable1 = '2'\n",
    "variable2 = '4'\n",
    "\n",
    "# Bivariate analysis: Scatter plot\n",
    "sns.scatterplot(x=variable1, y=variable2, data=df)\n",
    "plt.title('Bivariate Analysis: 2 vs 4')\n",
    "plt.xlabel('2')\n",
    "plt.ylabel('4')\n",
    "variables = ['12', '15', '18', '21']\n",
    "\n",
    "sns.pairplot(df[variables])\n",
    "plt.title('Multivariate Analysis')\n",
    "plt.show()\n",
    "plt.show()\n",
    "variables = ['12', '15', '18', '21']\n",
    "\n",
    "sns.pairplot(df[variables])\n",
    "plt.title('Multivariate Analysis')\n",
    "plt.show()"
   ]
  },
  {
   "cell_type": "code",
   "execution_count": 18,
   "id": "cc1a6cb9",
   "metadata": {},
   "outputs": [
    {
     "data": {
      "image/png": "[encoded data removed]",
      "text/plain": [
       "<Figure size 1000x1000 with 20 Axes>"
      ]
     },
     "metadata": {},
     "output_type": "display_data"
    }
   ],
   "source": [
    "variables = ['12', '15', '18', '21']\n",
    "\n",
    "sns.pairplot(df[variables])\n",
    "plt.title('Multivariate Analysis')\n",
    "plt.show()"
   ]
  },
  {
   "cell_type": "markdown",
   "id": "07bea3f0",
   "metadata": {},
   "source": [
    "## Data pre-processing:"
   ]
  },
  {
   "cell_type": "markdown",
   "id": "0d62df1b",
   "metadata": {},
   "source": [
    "### Segregate predictors vs target attributes."
   ]
  },
  {
   "cell_type": "code",
   "execution_count": 19,
   "id": "0d31e458",
   "metadata": {},
   "outputs": [
    {
     "name": "stdout",
     "output_type": "stream",
     "text": [
      "Shape of X: (1567, 139)\n",
      "Shape of y: (1567,)\n"
     ]
    }
   ],
   "source": [
    "X = df.drop('Pass/Fail', axis=1)  \n",
    "y = df['Pass/Fail']  \n",
    "\n",
    "print(\"Shape of X:\", X.shape)\n",
    "print(\"Shape of y:\", y.shape)"
   ]
  },
  {
   "cell_type": "code",
   "execution_count": 20,
   "id": "ea7e57be",
   "metadata": {},
   "outputs": [],
   "source": [
    "# Split the data into train and test sets\n",
    "X_train, X_test, y_train, y_test = train_test_split(X, y, test_size=0.3, random_state=42)"
   ]
  },
  {
   "cell_type": "markdown",
   "id": "156a3447",
   "metadata": {},
   "source": [
    "### Check for target balancing and fix it if found imbalanced."
   ]
  },
  {
   "cell_type": "code",
   "execution_count": 21,
   "id": "050e0a5f",
   "metadata": {},
   "outputs": [
    {
     "name": "stdout",
     "output_type": "stream",
     "text": [
      "-1    1463\n",
      " 1     104\n",
      "Name: Pass/Fail, dtype: int64\n"
     ]
    },
    {
     "data": {
      "image/png": "[encoded data removed]",
      "text/plain": [
       "<Figure size 600x400 with 1 Axes>"
      ]
     },
     "metadata": {},
     "output_type": "display_data"
    }
   ],
   "source": [
    "# Check the distribution of the target variable\n",
    "target_counts = df['Pass/Fail'].value_counts()\n",
    "print(target_counts)\n",
    "\n",
    "# Visualize the distribution\n",
    "plt.figure(figsize=(6, 4))\n",
    "plt.bar(target_counts.index, target_counts.values)\n",
    "plt.xlabel('Target')\n",
    "plt.ylabel('Count')\n",
    "plt.title('Distribution of Target Variable')\n",
    "plt.show()"
   ]
  },
  {
   "cell_type": "code",
   "execution_count": 22,
   "id": "fa900cf3",
   "metadata": {},
   "outputs": [
    {
     "name": "stdout",
     "output_type": "stream",
     "text": [
      "-1    1463\n",
      " 1    1463\n",
      "Name: Pass/Fail, dtype: int64\n"
     ]
    },
    {
     "data": {
      "image/png": "[encoded data removed]",
      "text/plain": [
       "<Figure size 600x400 with 1 Axes>"
      ]
     },
     "metadata": {},
     "output_type": "display_data"
    }
   ],
   "source": [
    "oversampler = RandomOverSampler(random_state=42)\n",
    "\n",
    "    # Resample the data to handle class imbalance\n",
    "\n",
    "X_resampled, y_resampled = oversampler.fit_resample(X, y)\n",
    "\n",
    "    # Check the distribution of the resampled target variable\n",
    "\n",
    "resampled_target_counts = pd.Series(y_resampled).value_counts()\n",
    "\n",
    "print(resampled_target_counts)\n",
    "\n",
    "    # Visualize the balanced distribution\n",
    "\n",
    "plt.figure(figsize=(6, 4))\n",
    "plt.bar(resampled_target_counts.index, resampled_target_counts.values)\n",
    "plt.xlabel('Target')\n",
    "plt.ylabel('Count')\n",
    "plt.title('Distribution of Resampled Target Variable')\n",
    "plt.show()"
   ]
  },
  {
   "cell_type": "markdown",
   "id": "3ec491fe",
   "metadata": {},
   "source": [
    "### Perform train-test split and standardise the data or vice versa if required."
   ]
  },
  {
   "cell_type": "code",
   "execution_count": 23,
   "id": "5b598ce3",
   "metadata": {},
   "outputs": [],
   "source": [
    "# Split the data into train and test sets\n",
    "X_train, X_test, y_train, y_test = train_test_split(X, y, test_size=0.3, random_state=42)\n",
    "scaler = StandardScaler()\n",
    "X_train = scaler.fit_transform(X_train)\n",
    "X_test = scaler.transform(X_test)"
   ]
  },
  {
   "cell_type": "code",
   "execution_count": 24,
   "id": "bca078dd",
   "metadata": {},
   "outputs": [
    {
     "name": "stdout",
     "output_type": "stream",
     "text": [
      "Original DataFrame shape: (1567, 140)\n",
      "Train DataFrame shape: (1096, 139)\n",
      "Test DataFrame shape: (471, 139)\n"
     ]
    }
   ],
   "source": [
    "print(\"Original DataFrame shape:\", df.shape)\n",
    "print(\"Train DataFrame shape:\", X_train.shape)\n",
    "print(\"Test DataFrame shape:\", X_test.shape)"
   ]
  },
  {
   "cell_type": "code",
   "execution_count": 25,
   "id": "f2bdf3c5",
   "metadata": {},
   "outputs": [
    {
     "data": {
      "text/html": [
       "<div>\n",
       "<style scoped>\n",
       "    .dataframe tbody tr th:only-of-type {\n",
       "        vertical-align: middle;\n",
       "    }\n",
       "\n",
       "    .dataframe tbody tr th {\n",
       "        vertical-align: top;\n",
       "    }\n",
       "\n",
       "    .dataframe thead th {\n",
       "        text-align: right;\n",
       "    }\n",
       "</style>\n",
       "<table border=\"1\" class=\"dataframe\">\n",
       "  <thead>\n",
       "    <tr style=\"text-align: right;\">\n",
       "      <th></th>\n",
       "      <th>count</th>\n",
       "      <th>mean</th>\n",
       "      <th>std</th>\n",
       "      <th>min</th>\n",
       "      <th>25%</th>\n",
       "      <th>50%</th>\n",
       "      <th>75%</th>\n",
       "      <th>max</th>\n",
       "    </tr>\n",
       "  </thead>\n",
       "  <tbody>\n",
       "    <tr>\n",
       "      <th>0</th>\n",
       "      <td>1567.0</td>\n",
       "      <td>3014.452896</td>\n",
       "      <td>73.480613</td>\n",
       "      <td>2743.2400</td>\n",
       "      <td>2966.66500</td>\n",
       "      <td>3011.8400</td>\n",
       "      <td>3056.54000</td>\n",
       "      <td>3356.3500</td>\n",
       "    </tr>\n",
       "    <tr>\n",
       "      <th>1</th>\n",
       "      <td>1567.0</td>\n",
       "      <td>2495.850231</td>\n",
       "      <td>80.227793</td>\n",
       "      <td>2158.7500</td>\n",
       "      <td>2452.88500</td>\n",
       "      <td>2498.9100</td>\n",
       "      <td>2538.74500</td>\n",
       "      <td>2846.4400</td>\n",
       "    </tr>\n",
       "    <tr>\n",
       "      <th>2</th>\n",
       "      <td>1567.0</td>\n",
       "      <td>2200.547318</td>\n",
       "      <td>29.380932</td>\n",
       "      <td>2060.6600</td>\n",
       "      <td>2181.09995</td>\n",
       "      <td>2200.9556</td>\n",
       "      <td>2218.05550</td>\n",
       "      <td>2315.2667</td>\n",
       "    </tr>\n",
       "    <tr>\n",
       "      <th>3</th>\n",
       "      <td>1567.0</td>\n",
       "      <td>1396.376627</td>\n",
       "      <td>439.712852</td>\n",
       "      <td>0.0000</td>\n",
       "      <td>1083.88580</td>\n",
       "      <td>1287.3538</td>\n",
       "      <td>1590.16990</td>\n",
       "      <td>3715.0417</td>\n",
       "    </tr>\n",
       "    <tr>\n",
       "      <th>4</th>\n",
       "      <td>1567.0</td>\n",
       "      <td>4.197013</td>\n",
       "      <td>56.103066</td>\n",
       "      <td>0.6815</td>\n",
       "      <td>1.01770</td>\n",
       "      <td>1.3171</td>\n",
       "      <td>1.52960</td>\n",
       "      <td>1114.5366</td>\n",
       "    </tr>\n",
       "    <tr>\n",
       "      <th>...</th>\n",
       "      <td>...</td>\n",
       "      <td>...</td>\n",
       "      <td>...</td>\n",
       "      <td>...</td>\n",
       "      <td>...</td>\n",
       "      <td>...</td>\n",
       "      <td>...</td>\n",
       "      <td>...</td>\n",
       "    </tr>\n",
       "    <tr>\n",
       "      <th>570</th>\n",
       "      <td>1567.0</td>\n",
       "      <td>530.523623</td>\n",
       "      <td>17.499736</td>\n",
       "      <td>317.1964</td>\n",
       "      <td>530.70270</td>\n",
       "      <td>532.3982</td>\n",
       "      <td>534.35640</td>\n",
       "      <td>589.5082</td>\n",
       "    </tr>\n",
       "    <tr>\n",
       "      <th>572</th>\n",
       "      <td>1567.0</td>\n",
       "      <td>28.450165</td>\n",
       "      <td>86.304681</td>\n",
       "      <td>3.5400</td>\n",
       "      <td>7.50000</td>\n",
       "      <td>8.6500</td>\n",
       "      <td>10.13000</td>\n",
       "      <td>454.5600</td>\n",
       "    </tr>\n",
       "    <tr>\n",
       "      <th>585</th>\n",
       "      <td>1567.0</td>\n",
       "      <td>3.067826</td>\n",
       "      <td>3.576891</td>\n",
       "      <td>1.1975</td>\n",
       "      <td>2.30650</td>\n",
       "      <td>2.7577</td>\n",
       "      <td>3.29495</td>\n",
       "      <td>99.3032</td>\n",
       "    </tr>\n",
       "    <tr>\n",
       "      <th>589</th>\n",
       "      <td>1567.0</td>\n",
       "      <td>99.670066</td>\n",
       "      <td>93.861936</td>\n",
       "      <td>0.0000</td>\n",
       "      <td>44.36860</td>\n",
       "      <td>72.0230</td>\n",
       "      <td>114.74970</td>\n",
       "      <td>737.3048</td>\n",
       "    </tr>\n",
       "    <tr>\n",
       "      <th>Pass/Fail</th>\n",
       "      <td>1567.0</td>\n",
       "      <td>-0.867262</td>\n",
       "      <td>0.498010</td>\n",
       "      <td>-1.0000</td>\n",
       "      <td>-1.00000</td>\n",
       "      <td>-1.0000</td>\n",
       "      <td>-1.00000</td>\n",
       "      <td>1.0000</td>\n",
       "    </tr>\n",
       "  </tbody>\n",
       "</table>\n",
       "<p>140 rows × 8 columns</p>\n",
       "</div>"
      ],
      "text/plain": [
       "            count         mean         std        min         25%        50%  \\\n",
       "0          1567.0  3014.452896   73.480613  2743.2400  2966.66500  3011.8400   \n",
       "1          1567.0  2495.850231   80.227793  2158.7500  2452.88500  2498.9100   \n",
       "2          1567.0  2200.547318   29.380932  2060.6600  2181.09995  2200.9556   \n",
       "3          1567.0  1396.376627  439.712852     0.0000  1083.88580  1287.3538   \n",
       "4          1567.0     4.197013   56.103066     0.6815     1.01770     1.3171   \n",
       "...           ...          ...         ...        ...         ...        ...   \n",
       "570        1567.0   530.523623   17.499736   317.1964   530.70270   532.3982   \n",
       "572        1567.0    28.450165   86.304681     3.5400     7.50000     8.6500   \n",
       "585        1567.0     3.067826    3.576891     1.1975     2.30650     2.7577   \n",
       "589        1567.0    99.670066   93.861936     0.0000    44.36860    72.0230   \n",
       "Pass/Fail  1567.0    -0.867262    0.498010    -1.0000    -1.00000    -1.0000   \n",
       "\n",
       "                  75%        max  \n",
       "0          3056.54000  3356.3500  \n",
       "1          2538.74500  2846.4400  \n",
       "2          2218.05550  2315.2667  \n",
       "3          1590.16990  3715.0417  \n",
       "4             1.52960  1114.5366  \n",
       "...               ...        ...  \n",
       "570         534.35640   589.5082  \n",
       "572          10.13000   454.5600  \n",
       "585           3.29495    99.3032  \n",
       "589         114.74970   737.3048  \n",
       "Pass/Fail    -1.00000     1.0000  \n",
       "\n",
       "[140 rows x 8 columns]"
      ]
     },
     "execution_count": 25,
     "metadata": {},
     "output_type": "execute_result"
    }
   ],
   "source": [
    "df.describe().T"
   ]
  },
  {
   "cell_type": "code",
   "execution_count": 26,
   "id": "083683ee",
   "metadata": {},
   "outputs": [
    {
     "data": {
      "text/html": [
       "<div>\n",
       "<style scoped>\n",
       "    .dataframe tbody tr th:only-of-type {\n",
       "        vertical-align: middle;\n",
       "    }\n",
       "\n",
       "    .dataframe tbody tr th {\n",
       "        vertical-align: top;\n",
       "    }\n",
       "\n",
       "    .dataframe thead th {\n",
       "        text-align: right;\n",
       "    }\n",
       "</style>\n",
       "<table border=\"1\" class=\"dataframe\">\n",
       "  <thead>\n",
       "    <tr style=\"text-align: right;\">\n",
       "      <th></th>\n",
       "      <th>count</th>\n",
       "      <th>mean</th>\n",
       "      <th>std</th>\n",
       "      <th>min</th>\n",
       "      <th>25%</th>\n",
       "      <th>50%</th>\n",
       "      <th>75%</th>\n",
       "      <th>max</th>\n",
       "    </tr>\n",
       "  </thead>\n",
       "  <tbody>\n",
       "    <tr>\n",
       "      <th>0</th>\n",
       "      <td>1567.0</td>\n",
       "      <td>3014.452896</td>\n",
       "      <td>73.480613</td>\n",
       "      <td>2743.2400</td>\n",
       "      <td>2966.66500</td>\n",
       "      <td>3011.8400</td>\n",
       "      <td>3056.54000</td>\n",
       "      <td>3356.3500</td>\n",
       "    </tr>\n",
       "    <tr>\n",
       "      <th>1</th>\n",
       "      <td>1567.0</td>\n",
       "      <td>2495.850231</td>\n",
       "      <td>80.227793</td>\n",
       "      <td>2158.7500</td>\n",
       "      <td>2452.88500</td>\n",
       "      <td>2498.9100</td>\n",
       "      <td>2538.74500</td>\n",
       "      <td>2846.4400</td>\n",
       "    </tr>\n",
       "    <tr>\n",
       "      <th>2</th>\n",
       "      <td>1567.0</td>\n",
       "      <td>2200.547318</td>\n",
       "      <td>29.380932</td>\n",
       "      <td>2060.6600</td>\n",
       "      <td>2181.09995</td>\n",
       "      <td>2200.9556</td>\n",
       "      <td>2218.05550</td>\n",
       "      <td>2315.2667</td>\n",
       "    </tr>\n",
       "    <tr>\n",
       "      <th>3</th>\n",
       "      <td>1567.0</td>\n",
       "      <td>1396.376627</td>\n",
       "      <td>439.712852</td>\n",
       "      <td>0.0000</td>\n",
       "      <td>1083.88580</td>\n",
       "      <td>1287.3538</td>\n",
       "      <td>1590.16990</td>\n",
       "      <td>3715.0417</td>\n",
       "    </tr>\n",
       "    <tr>\n",
       "      <th>4</th>\n",
       "      <td>1567.0</td>\n",
       "      <td>4.197013</td>\n",
       "      <td>56.103066</td>\n",
       "      <td>0.6815</td>\n",
       "      <td>1.01770</td>\n",
       "      <td>1.3171</td>\n",
       "      <td>1.52960</td>\n",
       "      <td>1114.5366</td>\n",
       "    </tr>\n",
       "    <tr>\n",
       "      <th>...</th>\n",
       "      <td>...</td>\n",
       "      <td>...</td>\n",
       "      <td>...</td>\n",
       "      <td>...</td>\n",
       "      <td>...</td>\n",
       "      <td>...</td>\n",
       "      <td>...</td>\n",
       "      <td>...</td>\n",
       "    </tr>\n",
       "    <tr>\n",
       "      <th>569</th>\n",
       "      <td>1567.0</td>\n",
       "      <td>21.117674</td>\n",
       "      <td>9.280454</td>\n",
       "      <td>3.2504</td>\n",
       "      <td>15.46620</td>\n",
       "      <td>20.1824</td>\n",
       "      <td>23.03520</td>\n",
       "      <td>84.8024</td>\n",
       "    </tr>\n",
       "    <tr>\n",
       "      <th>570</th>\n",
       "      <td>1567.0</td>\n",
       "      <td>530.523623</td>\n",
       "      <td>17.499736</td>\n",
       "      <td>317.1964</td>\n",
       "      <td>530.70270</td>\n",
       "      <td>532.3982</td>\n",
       "      <td>534.35640</td>\n",
       "      <td>589.5082</td>\n",
       "    </tr>\n",
       "    <tr>\n",
       "      <th>572</th>\n",
       "      <td>1567.0</td>\n",
       "      <td>28.450165</td>\n",
       "      <td>86.304681</td>\n",
       "      <td>3.5400</td>\n",
       "      <td>7.50000</td>\n",
       "      <td>8.6500</td>\n",
       "      <td>10.13000</td>\n",
       "      <td>454.5600</td>\n",
       "    </tr>\n",
       "    <tr>\n",
       "      <th>585</th>\n",
       "      <td>1567.0</td>\n",
       "      <td>3.067826</td>\n",
       "      <td>3.576891</td>\n",
       "      <td>1.1975</td>\n",
       "      <td>2.30650</td>\n",
       "      <td>2.7577</td>\n",
       "      <td>3.29495</td>\n",
       "      <td>99.3032</td>\n",
       "    </tr>\n",
       "    <tr>\n",
       "      <th>589</th>\n",
       "      <td>1567.0</td>\n",
       "      <td>99.670066</td>\n",
       "      <td>93.861936</td>\n",
       "      <td>0.0000</td>\n",
       "      <td>44.36860</td>\n",
       "      <td>72.0230</td>\n",
       "      <td>114.74970</td>\n",
       "      <td>737.3048</td>\n",
       "    </tr>\n",
       "  </tbody>\n",
       "</table>\n",
       "<p>139 rows × 8 columns</p>\n",
       "</div>"
      ],
      "text/plain": [
       "      count         mean         std        min         25%        50%  \\\n",
       "0    1567.0  3014.452896   73.480613  2743.2400  2966.66500  3011.8400   \n",
       "1    1567.0  2495.850231   80.227793  2158.7500  2452.88500  2498.9100   \n",
       "2    1567.0  2200.547318   29.380932  2060.6600  2181.09995  2200.9556   \n",
       "3    1567.0  1396.376627  439.712852     0.0000  1083.88580  1287.3538   \n",
       "4    1567.0     4.197013   56.103066     0.6815     1.01770     1.3171   \n",
       "..      ...          ...         ...        ...         ...        ...   \n",
       "569  1567.0    21.117674    9.280454     3.2504    15.46620    20.1824   \n",
       "570  1567.0   530.523623   17.499736   317.1964   530.70270   532.3982   \n",
       "572  1567.0    28.450165   86.304681     3.5400     7.50000     8.6500   \n",
       "585  1567.0     3.067826    3.576891     1.1975     2.30650     2.7577   \n",
       "589  1567.0    99.670066   93.861936     0.0000    44.36860    72.0230   \n",
       "\n",
       "            75%        max  \n",
       "0    3056.54000  3356.3500  \n",
       "1    2538.74500  2846.4400  \n",
       "2    2218.05550  2315.2667  \n",
       "3    1590.16990  3715.0417  \n",
       "4       1.52960  1114.5366  \n",
       "..          ...        ...  \n",
       "569    23.03520    84.8024  \n",
       "570   534.35640   589.5082  \n",
       "572    10.13000   454.5600  \n",
       "585     3.29495    99.3032  \n",
       "589   114.74970   737.3048  \n",
       "\n",
       "[139 rows x 8 columns]"
      ]
     },
     "execution_count": 26,
     "metadata": {},
     "output_type": "execute_result"
    }
   ],
   "source": [
    "X.describe().T"
   ]
  },
  {
   "cell_type": "code",
   "execution_count": 27,
   "id": "5b236fdf",
   "metadata": {},
   "outputs": [
    {
     "data": {
      "text/html": [
       "<div>\n",
       "<style scoped>\n",
       "    .dataframe tbody tr th:only-of-type {\n",
       "        vertical-align: middle;\n",
       "    }\n",
       "\n",
       "    .dataframe tbody tr th {\n",
       "        vertical-align: top;\n",
       "    }\n",
       "\n",
       "    .dataframe thead th {\n",
       "        text-align: right;\n",
       "    }\n",
       "</style>\n",
       "<table border=\"1\" class=\"dataframe\">\n",
       "  <thead>\n",
       "    <tr style=\"text-align: right;\">\n",
       "      <th></th>\n",
       "      <th>count</th>\n",
       "      <th>mean</th>\n",
       "      <th>std</th>\n",
       "      <th>min</th>\n",
       "      <th>25%</th>\n",
       "      <th>50%</th>\n",
       "      <th>75%</th>\n",
       "      <th>max</th>\n",
       "    </tr>\n",
       "  </thead>\n",
       "  <tbody>\n",
       "    <tr>\n",
       "      <th>0</th>\n",
       "      <td>2926.0</td>\n",
       "      <td>3010.252426</td>\n",
       "      <td>81.223096</td>\n",
       "      <td>2743.2400</td>\n",
       "      <td>2955.827500</td>\n",
       "      <td>2999.075000</td>\n",
       "      <td>3054.3000</td>\n",
       "      <td>3356.3500</td>\n",
       "    </tr>\n",
       "    <tr>\n",
       "      <th>1</th>\n",
       "      <td>2926.0</td>\n",
       "      <td>2496.832240</td>\n",
       "      <td>75.314349</td>\n",
       "      <td>2158.7500</td>\n",
       "      <td>2457.420000</td>\n",
       "      <td>2499.720000</td>\n",
       "      <td>2536.4800</td>\n",
       "      <td>2846.4400</td>\n",
       "    </tr>\n",
       "    <tr>\n",
       "      <th>2</th>\n",
       "      <td>2926.0</td>\n",
       "      <td>2199.631248</td>\n",
       "      <td>30.562777</td>\n",
       "      <td>2060.6600</td>\n",
       "      <td>2177.066650</td>\n",
       "      <td>2197.644400</td>\n",
       "      <td>2217.3777</td>\n",
       "      <td>2315.2667</td>\n",
       "    </tr>\n",
       "    <tr>\n",
       "      <th>3</th>\n",
       "      <td>2926.0</td>\n",
       "      <td>1368.424613</td>\n",
       "      <td>397.440471</td>\n",
       "      <td>0.0000</td>\n",
       "      <td>1068.452100</td>\n",
       "      <td>1275.779300</td>\n",
       "      <td>1564.6023</td>\n",
       "      <td>3715.0417</td>\n",
       "    </tr>\n",
       "    <tr>\n",
       "      <th>4</th>\n",
       "      <td>2926.0</td>\n",
       "      <td>2.845461</td>\n",
       "      <td>41.076806</td>\n",
       "      <td>0.6815</td>\n",
       "      <td>1.030400</td>\n",
       "      <td>1.310100</td>\n",
       "      <td>1.5138</td>\n",
       "      <td>1114.5366</td>\n",
       "    </tr>\n",
       "    <tr>\n",
       "      <th>...</th>\n",
       "      <td>...</td>\n",
       "      <td>...</td>\n",
       "      <td>...</td>\n",
       "      <td>...</td>\n",
       "      <td>...</td>\n",
       "      <td>...</td>\n",
       "      <td>...</td>\n",
       "      <td>...</td>\n",
       "    </tr>\n",
       "    <tr>\n",
       "      <th>569</th>\n",
       "      <td>2926.0</td>\n",
       "      <td>21.778897</td>\n",
       "      <td>10.375941</td>\n",
       "      <td>3.2504</td>\n",
       "      <td>15.466200</td>\n",
       "      <td>21.117674</td>\n",
       "      <td>23.9308</td>\n",
       "      <td>84.8024</td>\n",
       "    </tr>\n",
       "    <tr>\n",
       "      <th>570</th>\n",
       "      <td>2926.0</td>\n",
       "      <td>530.615540</td>\n",
       "      <td>18.510637</td>\n",
       "      <td>317.1964</td>\n",
       "      <td>530.881800</td>\n",
       "      <td>532.265000</td>\n",
       "      <td>534.4918</td>\n",
       "      <td>589.5082</td>\n",
       "    </tr>\n",
       "    <tr>\n",
       "      <th>572</th>\n",
       "      <td>2926.0</td>\n",
       "      <td>23.445658</td>\n",
       "      <td>73.515634</td>\n",
       "      <td>3.5400</td>\n",
       "      <td>7.390000</td>\n",
       "      <td>8.650000</td>\n",
       "      <td>10.1500</td>\n",
       "      <td>454.5600</td>\n",
       "    </tr>\n",
       "    <tr>\n",
       "      <th>585</th>\n",
       "      <td>2926.0</td>\n",
       "      <td>3.117274</td>\n",
       "      <td>2.798091</td>\n",
       "      <td>1.1975</td>\n",
       "      <td>2.290425</td>\n",
       "      <td>2.762450</td>\n",
       "      <td>3.3593</td>\n",
       "      <td>99.3032</td>\n",
       "    </tr>\n",
       "    <tr>\n",
       "      <th>589</th>\n",
       "      <td>2926.0</td>\n",
       "      <td>101.581428</td>\n",
       "      <td>89.020022</td>\n",
       "      <td>0.0000</td>\n",
       "      <td>45.687725</td>\n",
       "      <td>76.458400</td>\n",
       "      <td>119.9484</td>\n",
       "      <td>737.3048</td>\n",
       "    </tr>\n",
       "  </tbody>\n",
       "</table>\n",
       "<p>139 rows × 8 columns</p>\n",
       "</div>"
      ],
      "text/plain": [
       "      count         mean         std        min          25%          50%  \\\n",
       "0    2926.0  3010.252426   81.223096  2743.2400  2955.827500  2999.075000   \n",
       "1    2926.0  2496.832240   75.314349  2158.7500  2457.420000  2499.720000   \n",
       "2    2926.0  2199.631248   30.562777  2060.6600  2177.066650  2197.644400   \n",
       "3    2926.0  1368.424613  397.440471     0.0000  1068.452100  1275.779300   \n",
       "4    2926.0     2.845461   41.076806     0.6815     1.030400     1.310100   \n",
       "..      ...          ...         ...        ...          ...          ...   \n",
       "569  2926.0    21.778897   10.375941     3.2504    15.466200    21.117674   \n",
       "570  2926.0   530.615540   18.510637   317.1964   530.881800   532.265000   \n",
       "572  2926.0    23.445658   73.515634     3.5400     7.390000     8.650000   \n",
       "585  2926.0     3.117274    2.798091     1.1975     2.290425     2.762450   \n",
       "589  2926.0   101.581428   89.020022     0.0000    45.687725    76.458400   \n",
       "\n",
       "           75%        max  \n",
       "0    3054.3000  3356.3500  \n",
       "1    2536.4800  2846.4400  \n",
       "2    2217.3777  2315.2667  \n",
       "3    1564.6023  3715.0417  \n",
       "4       1.5138  1114.5366  \n",
       "..         ...        ...  \n",
       "569    23.9308    84.8024  \n",
       "570   534.4918   589.5082  \n",
       "572    10.1500   454.5600  \n",
       "585     3.3593    99.3032  \n",
       "589   119.9484   737.3048  \n",
       "\n",
       "[139 rows x 8 columns]"
      ]
     },
     "execution_count": 27,
     "metadata": {},
     "output_type": "execute_result"
    }
   ],
   "source": [
    "X_resampled.describe().T"
   ]
  },
  {
   "cell_type": "code",
   "execution_count": 28,
   "id": "26bd4a78",
   "metadata": {},
   "outputs": [
    {
     "data": {
      "text/plain": [
       "count    2926.000000\n",
       "mean        0.000000\n",
       "std         1.000171\n",
       "min        -1.000000\n",
       "25%        -1.000000\n",
       "50%         0.000000\n",
       "75%         1.000000\n",
       "max         1.000000\n",
       "Name: Pass/Fail, dtype: float64"
      ]
     },
     "execution_count": 28,
     "metadata": {},
     "output_type": "execute_result"
    }
   ],
   "source": [
    "y_resampled.describe().T"
   ]
  },
  {
   "cell_type": "markdown",
   "id": "ca710d0d",
   "metadata": {},
   "source": [
    "#### Observations:\n",
    "The Statistical characteristics for original and train are nearly similar but it varies with test data"
   ]
  },
  {
   "cell_type": "markdown",
   "id": "790b5dd2",
   "metadata": {},
   "source": [
    "## Model training, testing and tuning:"
   ]
  },
  {
   "cell_type": "markdown",
   "id": "4bce74c2",
   "metadata": {},
   "source": [
    "### Logistic Regression"
   ]
  },
  {
   "cell_type": "code",
   "execution_count": 29,
   "id": "e56782e6",
   "metadata": {},
   "outputs": [
    {
     "data": {
      "text/plain": [
       "LogisticRegression()"
      ]
     },
     "execution_count": 29,
     "metadata": {},
     "output_type": "execute_result"
    }
   ],
   "source": [
    "lr_model = LogisticRegression()\n",
    "lr_model.fit(X_train, y_train)"
   ]
  },
  {
   "cell_type": "markdown",
   "id": "6735e3c1",
   "metadata": {},
   "source": [
    "### Use cross validation techniques."
   ]
  },
  {
   "cell_type": "code",
   "execution_count": 30,
   "id": "49671e4e",
   "metadata": {},
   "outputs": [
    {
     "name": "stdout",
     "output_type": "stream",
     "text": [
      "Cross-Validation Scores: [0.88181818 0.9086758  0.91324201 0.91324201 0.8630137 ]\n",
      "Mean CV Score: 0.8959983395599833\n"
     ]
    }
   ],
   "source": [
    "cv_scores = cross_val_score(lr_model, X_train, y_train, cv=5)\n",
    "\n",
    "print(\"Cross-Validation Scores:\", cv_scores)\n",
    "print(\"Mean CV Score:\", cv_scores.mean())"
   ]
  },
  {
   "cell_type": "code",
   "execution_count": 31,
   "id": "f54c1db9",
   "metadata": {},
   "outputs": [
    {
     "name": "stdout",
     "output_type": "stream",
     "text": [
      "Leave-One-Out Scores: [1. 1. 0. ... 1. 1. 1.]\n"
     ]
    }
   ],
   "source": [
    "leave_one_out = LeaveOneOut()\n",
    "leave_one_out_scores = cross_val_score(lr_model, X, y, cv=leave_one_out)\n",
    "\n",
    "print(\"Leave-One-Out Scores:\", leave_one_out_scores)"
   ]
  },
  {
   "cell_type": "code",
   "execution_count": 32,
   "id": "1fd1e1fd",
   "metadata": {},
   "outputs": [
    {
     "name": "stdout",
     "output_type": "stream",
     "text": [
      "best score of Grid Search over 120 iterations: 0.9224467899293859\n"
     ]
    }
   ],
   "source": [
    "param_grid = [{'penalty' : ['l1', 'l2', 'elasticnet', 'none'], 'C' : [1,2,4], 'solver' : ['lbfgs','newton-cg','liblinear','sag','saga'], 'max_iter' : [100, 1000,2500, 5000]}]\n",
    "\n",
    "gridsearch = GridSearchCV(lr_model, param_grid=param_grid, cv=3, n_jobs=-1, scoring='accuracy', return_train_score=True)\n",
    "gridsearch.fit(X_train, y_train)\n",
    "print('best score of Grid Search over 120 iterations:', gridsearch.best_score_)"
   ]
  },
  {
   "cell_type": "code",
   "execution_count": 33,
   "id": "2804dab5",
   "metadata": {},
   "outputs": [
    {
     "name": "stdout",
     "output_type": "stream",
     "text": [
      "{'solver': 'saga', 'penalty': 'l2', 'max_iter': 100, 'C': 1}\n",
      "best score of randomized_search: 0.922453300124533\n"
     ]
    }
   ],
   "source": [
    "randomized_search = RandomizedSearchCV(estimator=lr_model, param_distributions=param_grid, n_iter=10, cv=5, scoring='accuracy', random_state=42)\n",
    "randomized_search.fit(X_train, y_train)\n",
    "print(randomized_search.best_params_)\n",
    "print('best score of randomized_search:', randomized_search.best_score_)"
   ]
  },
  {
   "cell_type": "code",
   "execution_count": 34,
   "id": "d283189a",
   "metadata": {},
   "outputs": [
    {
     "name": "stdout",
     "output_type": "stream",
     "text": [
      "Best Accuracy Score: 0.922453300124533\n"
     ]
    }
   ],
   "source": [
    "best_score = randomized_search.best_score_\n",
    "print(\"Best Accuracy Score:\", best_score)"
   ]
  },
  {
   "cell_type": "code",
   "execution_count": 35,
   "id": "e51897c7",
   "metadata": {},
   "outputs": [
    {
     "name": "stdout",
     "output_type": "stream",
     "text": [
      "Total Hyperparameter Combinations: 240\n"
     ]
    }
   ],
   "source": [
    "# Import necessary libraries\n",
    "from itertools import product\n",
    "\n",
    "# Define the list of hyperparameters\n",
    "penalty = ['l1', 'l2', 'elasticnet', 'none']\n",
    "C = [1, 2, 4]\n",
    "solver = ['lbfgs', 'newton-cg', 'liblinear', 'sag', 'saga']\n",
    "max_iter = [100, 1000, 2500, 5000]\n",
    "\n",
    "# Generate all possible combinations of hyperparameters\n",
    "hyperparameter_combinations = list(product(penalty, C, solver, max_iter))\n",
    "\n",
    "# Print the total number of hyperparameter combinations\n",
    "print(\"Total Hyperparameter Combinations:\", len(hyperparameter_combinations))"
   ]
  },
  {
   "cell_type": "code",
   "execution_count": 36,
   "id": "a32ca090",
   "metadata": {},
   "outputs": [
    {
     "name": "stdout",
     "output_type": "stream",
     "text": [
      "Best Hyperparameters: {'C': 1, 'max_iter': 100, 'penalty': 'l1', 'solver': 'saga'}\n",
      "Best Accuracy Score: 0.9224467899293859\n"
     ]
    }
   ],
   "source": [
    "best_params = gridsearch.best_params_\n",
    "best_score = gridsearch.best_score_\n",
    "print(\"Best Hyperparameters:\", best_params)\n",
    "print(\"Best Accuracy Score:\", best_score)"
   ]
  },
  {
   "cell_type": "code",
   "execution_count": 37,
   "id": "56b94df1",
   "metadata": {},
   "outputs": [
    {
     "data": {
      "text/plain": [
       "LogisticRegression(C=1, penalty='l1', solver='saga')"
      ]
     },
     "execution_count": 37,
     "metadata": {},
     "output_type": "execute_result"
    }
   ],
   "source": [
    "best_lr_model = LogisticRegression(**best_params)\n",
    "best_lr_model.fit(X_train, y_train)"
   ]
  },
  {
   "cell_type": "code",
   "execution_count": 38,
   "id": "a30d76bf",
   "metadata": {},
   "outputs": [
    {
     "name": "stdout",
     "output_type": "stream",
     "text": [
      "Test Accuracy: 0.9256900212314225\n"
     ]
    }
   ],
   "source": [
    "y_pred = best_lr_model.predict(X_test)\n",
    "accuracy = accuracy_score(y_test, y_pred)\n",
    "print(\"Test Accuracy:\", accuracy)"
   ]
  },
  {
   "cell_type": "code",
   "execution_count": 39,
   "id": "32447fc7",
   "metadata": {},
   "outputs": [],
   "source": [
    "best_params = randomized_search.best_params_\n",
    "best_lr_model = LogisticRegression(**best_params)\n",
    "best_lr_model.fit(X_train, y_train)\n",
    "y_pred = best_lr_model.predict(X_test)"
   ]
  },
  {
   "cell_type": "code",
   "execution_count": 40,
   "id": "75bc6dbe",
   "metadata": {},
   "outputs": [
    {
     "name": "stdout",
     "output_type": "stream",
     "text": [
      "Accuracy: 0.921443736730361\n",
      "Precision: 0.125\n",
      "Recall: 0.03225806451612903\n",
      "F1-score: 0.05128205128205128\n"
     ]
    }
   ],
   "source": [
    "from sklearn.metrics import accuracy_score, precision_score, recall_score, f1_score\n",
    "\n",
    "accuracy = accuracy_score(y_test, y_pred)\n",
    "precision = precision_score(y_test, y_pred)\n",
    "recall = recall_score(y_test, y_pred)\n",
    "f1 = f1_score(y_test, y_pred)\n",
    "\n",
    "print(\"Accuracy:\", accuracy)\n",
    "print(\"Precision:\", precision)\n",
    "print(\"Recall:\", recall)\n",
    "print(\"F1-score:\", f1)"
   ]
  },
  {
   "cell_type": "markdown",
   "id": "05bca4f2",
   "metadata": {},
   "source": [
    "### Use any other technique/method which can enhance the model performance."
   ]
  },
  {
   "cell_type": "code",
   "execution_count": 41,
   "id": "90d42118",
   "metadata": {},
   "outputs": [
    {
     "data": {
      "text/html": [
       "<div>\n",
       "<style scoped>\n",
       "    .dataframe tbody tr th:only-of-type {\n",
       "        vertical-align: middle;\n",
       "    }\n",
       "\n",
       "    .dataframe tbody tr th {\n",
       "        vertical-align: top;\n",
       "    }\n",
       "\n",
       "    .dataframe thead th {\n",
       "        text-align: right;\n",
       "    }\n",
       "</style>\n",
       "<table border=\"1\" class=\"dataframe\">\n",
       "  <thead>\n",
       "    <tr style=\"text-align: right;\">\n",
       "      <th></th>\n",
       "      <th>0</th>\n",
       "      <th>1</th>\n",
       "      <th>2</th>\n",
       "      <th>3</th>\n",
       "      <th>4</th>\n",
       "      <th>6</th>\n",
       "      <th>12</th>\n",
       "      <th>14</th>\n",
       "      <th>15</th>\n",
       "      <th>16</th>\n",
       "      <th>...</th>\n",
       "      <th>551</th>\n",
       "      <th>561</th>\n",
       "      <th>562</th>\n",
       "      <th>564</th>\n",
       "      <th>569</th>\n",
       "      <th>570</th>\n",
       "      <th>572</th>\n",
       "      <th>585</th>\n",
       "      <th>589</th>\n",
       "      <th>Pass/Fail</th>\n",
       "    </tr>\n",
       "  </thead>\n",
       "  <tbody>\n",
       "    <tr>\n",
       "      <th>0</th>\n",
       "      <td>0.224309</td>\n",
       "      <td>0.849725</td>\n",
       "      <td>-0.436273</td>\n",
       "      <td>0.033555</td>\n",
       "      <td>-0.050580</td>\n",
       "      <td>-0.563790</td>\n",
       "      <td>0.762960</td>\n",
       "      <td>-0.375783</td>\n",
       "      <td>0.103782</td>\n",
       "      <td>0.056522</td>\n",
       "      <td>...</td>\n",
       "      <td>-0.362715</td>\n",
       "      <td>0.531334</td>\n",
       "      <td>-8.200826e-14</td>\n",
       "      <td>-3.452799e-14</td>\n",
       "      <td>-9.956414e-15</td>\n",
       "      <td>0.190142</td>\n",
       "      <td>-0.226018</td>\n",
       "      <td>-0.197113</td>\n",
       "      <td>-1.665950e-15</td>\n",
       "      <td>-0.266621</td>\n",
       "    </tr>\n",
       "    <tr>\n",
       "      <th>1</th>\n",
       "      <td>1.107136</td>\n",
       "      <td>-0.382910</td>\n",
       "      <td>1.017137</td>\n",
       "      <td>0.153067</td>\n",
       "      <td>-0.060045</td>\n",
       "      <td>0.198217</td>\n",
       "      <td>0.181365</td>\n",
       "      <td>0.411536</td>\n",
       "      <td>0.095858</td>\n",
       "      <td>-0.269787</td>\n",
       "      <td>...</td>\n",
       "      <td>0.079904</td>\n",
       "      <td>-0.745572</td>\n",
       "      <td>-8.200826e-14</td>\n",
       "      <td>-3.452799e-14</td>\n",
       "      <td>-9.956414e-15</td>\n",
       "      <td>0.256816</td>\n",
       "      <td>-0.261137</td>\n",
       "      <td>0.385059</td>\n",
       "      <td>1.156689e+00</td>\n",
       "      <td>-0.266621</td>\n",
       "    </tr>\n",
       "    <tr>\n",
       "      <th>2</th>\n",
       "      <td>-1.114158</td>\n",
       "      <td>0.799102</td>\n",
       "      <td>-0.481289</td>\n",
       "      <td>0.686213</td>\n",
       "      <td>-0.047906</td>\n",
       "      <td>-0.906210</td>\n",
       "      <td>0.633372</td>\n",
       "      <td>0.182716</td>\n",
       "      <td>0.210561</td>\n",
       "      <td>-0.247086</td>\n",
       "      <td>...</td>\n",
       "      <td>-0.306382</td>\n",
       "      <td>-0.396160</td>\n",
       "      <td>6.253138e-01</td>\n",
       "      <td>-2.234265e+00</td>\n",
       "      <td>5.144841e+00</td>\n",
       "      <td>0.257279</td>\n",
       "      <td>-0.199823</td>\n",
       "      <td>0.029833</td>\n",
       "      <td>-1.791486e-01</td>\n",
       "      <td>3.750641</td>\n",
       "    </tr>\n",
       "    <tr>\n",
       "      <th>3</th>\n",
       "      <td>-0.350312</td>\n",
       "      <td>-0.198875</td>\n",
       "      <td>-0.051547</td>\n",
       "      <td>-1.106948</td>\n",
       "      <td>-0.051290</td>\n",
       "      <td>0.503246</td>\n",
       "      <td>0.581223</td>\n",
       "      <td>0.214760</td>\n",
       "      <td>0.535107</td>\n",
       "      <td>-0.089638</td>\n",
       "      <td>...</td>\n",
       "      <td>30.660852</td>\n",
       "      <td>1.602627</td>\n",
       "      <td>7.932446e-01</td>\n",
       "      <td>3.657665e-01</td>\n",
       "      <td>4.223799e-01</td>\n",
       "      <td>0.002548</td>\n",
       "      <td>-0.221613</td>\n",
       "      <td>-0.283417</td>\n",
       "      <td>-2.752459e-01</td>\n",
       "      <td>-0.266621</td>\n",
       "    </tr>\n",
       "    <tr>\n",
       "      <th>4</th>\n",
       "      <td>0.242143</td>\n",
       "      <td>0.087526</td>\n",
       "      <td>1.117387</td>\n",
       "      <td>-0.158919</td>\n",
       "      <td>-0.047492</td>\n",
       "      <td>-0.115382</td>\n",
       "      <td>0.610171</td>\n",
       "      <td>0.558796</td>\n",
       "      <td>0.436445</td>\n",
       "      <td>0.179564</td>\n",
       "      <td>...</td>\n",
       "      <td>0.602999</td>\n",
       "      <td>-0.538287</td>\n",
       "      <td>-8.200826e-14</td>\n",
       "      <td>-3.452799e-14</td>\n",
       "      <td>-9.956414e-15</td>\n",
       "      <td>0.085279</td>\n",
       "      <td>-0.227409</td>\n",
       "      <td>26.913347</td>\n",
       "      <td>-2.752459e-01</td>\n",
       "      <td>-0.266621</td>\n",
       "    </tr>\n",
       "  </tbody>\n",
       "</table>\n",
       "<p>5 rows × 140 columns</p>\n",
       "</div>"
      ],
      "text/plain": [
       "          0         1         2         3         4         6        12  \\\n",
       "0  0.224309  0.849725 -0.436273  0.033555 -0.050580 -0.563790  0.762960   \n",
       "1  1.107136 -0.382910  1.017137  0.153067 -0.060045  0.198217  0.181365   \n",
       "2 -1.114158  0.799102 -0.481289  0.686213 -0.047906 -0.906210  0.633372   \n",
       "3 -0.350312 -0.198875 -0.051547 -1.106948 -0.051290  0.503246  0.581223   \n",
       "4  0.242143  0.087526  1.117387 -0.158919 -0.047492 -0.115382  0.610171   \n",
       "\n",
       "         14        15        16  ...        551       561           562  \\\n",
       "0 -0.375783  0.103782  0.056522  ...  -0.362715  0.531334 -8.200826e-14   \n",
       "1  0.411536  0.095858 -0.269787  ...   0.079904 -0.745572 -8.200826e-14   \n",
       "2  0.182716  0.210561 -0.247086  ...  -0.306382 -0.396160  6.253138e-01   \n",
       "3  0.214760  0.535107 -0.089638  ...  30.660852  1.602627  7.932446e-01   \n",
       "4  0.558796  0.436445  0.179564  ...   0.602999 -0.538287 -8.200826e-14   \n",
       "\n",
       "            564           569       570       572        585           589  \\\n",
       "0 -3.452799e-14 -9.956414e-15  0.190142 -0.226018  -0.197113 -1.665950e-15   \n",
       "1 -3.452799e-14 -9.956414e-15  0.256816 -0.261137   0.385059  1.156689e+00   \n",
       "2 -2.234265e+00  5.144841e+00  0.257279 -0.199823   0.029833 -1.791486e-01   \n",
       "3  3.657665e-01  4.223799e-01  0.002548 -0.221613  -0.283417 -2.752459e-01   \n",
       "4 -3.452799e-14 -9.956414e-15  0.085279 -0.227409  26.913347 -2.752459e-01   \n",
       "\n",
       "   Pass/Fail  \n",
       "0  -0.266621  \n",
       "1  -0.266621  \n",
       "2   3.750641  \n",
       "3  -0.266621  \n",
       "4  -0.266621  \n",
       "\n",
       "[5 rows x 140 columns]"
      ]
     },
     "execution_count": 41,
     "metadata": {},
     "output_type": "execute_result"
    }
   ],
   "source": [
    "#Scaling the data before applying PCA\n",
    "from scipy.stats import zscore\n",
    "df_new=df.iloc[:,:306].apply(zscore)\n",
    "df_new.head()"
   ]
  },
  {
   "cell_type": "code",
   "execution_count": 42,
   "id": "4ca2391f",
   "metadata": {},
   "outputs": [
    {
     "data": {
      "text/plain": [
       "False"
      ]
     },
     "execution_count": 42,
     "metadata": {},
     "output_type": "execute_result"
    }
   ],
   "source": [
    "df_new.isnull().any().any()"
   ]
  },
  {
   "cell_type": "code",
   "execution_count": 43,
   "id": "bc199513",
   "metadata": {},
   "outputs": [
    {
     "name": "stdout",
     "output_type": "stream",
     "text": [
      "shape of x: (1567, 140)\n",
      "shape of y: (1567,)\n"
     ]
    }
   ],
   "source": [
    "x = df_new.iloc[:,:306]\n",
    "y = df[\"Pass/Fail\"]\n",
    "\n",
    "# getting the shapes of new data sets x and y\n",
    "print(\"shape of x:\", x.shape)\n",
    "print(\"shape of y:\", y.shape)"
   ]
  },
  {
   "cell_type": "code",
   "execution_count": 44,
   "id": "a0247c1c",
   "metadata": {},
   "outputs": [
    {
     "name": "stdout",
     "output_type": "stream",
     "text": [
      "Covariance Matrix \n",
      "%s [[ 1.00063857e+00 -1.43931658e-01  4.75868246e-03 ...  2.36043864e-02\n",
      "   4.17663212e-03 -2.51570989e-02]\n",
      " [-1.43931658e-01  1.00063857e+00  5.77088798e-03 ...  2.27405073e-03\n",
      "   4.48254521e-02 -2.60437419e-03]\n",
      " [ 4.75868246e-03  5.77088798e-03  1.00063857e+00 ...  1.57621501e-02\n",
      "  -3.29109770e-02 -9.57752774e-04]\n",
      " ...\n",
      " [ 2.36043864e-02  2.27405073e-03  1.57621501e-02 ...  1.00063857e+00\n",
      "  -3.80249376e-03  5.03759637e-03]\n",
      " [ 4.17663212e-03  4.48254521e-02 -3.29109770e-02 ... -3.80249376e-03\n",
      "   1.00063857e+00 -2.65514438e-03]\n",
      " [-2.51570989e-02 -2.60437419e-03 -9.57752774e-04 ...  5.03759637e-03\n",
      "  -2.65514438e-03  1.00063857e+00]]\n"
     ]
    }
   ],
   "source": [
    "# Step 1 - Create covariance matrix\n",
    "\n",
    "cov_matrix = np.cov(x.T)\n",
    "print('Covariance Matrix \\n%s', cov_matrix)"
   ]
  },
  {
   "cell_type": "code",
   "execution_count": 45,
   "id": "a16e697f",
   "metadata": {},
   "outputs": [
    {
     "name": "stdout",
     "output_type": "stream",
     "text": [
      "Eigen Vectors \n",
      "%s [[-0.04898378  0.01277066 -0.02837966 ...  0.08271545 -0.01758929\n",
      "   0.00106053]\n",
      " [ 0.00064877  0.01197015  0.0421643  ...  0.17670018  0.10351369\n",
      "   0.11562137]\n",
      " [ 0.00044179  0.019191    0.01515619 ... -0.01458408  0.02419918\n",
      "   0.05000788]\n",
      " ...\n",
      " [ 0.00652593 -0.02589426  0.00900685 ... -0.0248216   0.01075431\n",
      "  -0.17336122]\n",
      " [ 0.03401426 -0.01726438  0.02049091 ... -0.06794485 -0.09711652\n",
      "   0.16284575]\n",
      " [ 0.03425689 -0.01432795  0.08774084 ... -0.12365384  0.16043517\n",
      "   0.15029252]]\n",
      "\n",
      " Eigen Values \n",
      "%s [6.01181292e+00 4.65732427e+00 4.16832334e+00 3.48190115e+00\n",
      " 3.31721769e+00 2.86513993e+00 2.74321737e+00 2.51739971e+00\n",
      " 2.33864440e+00 2.25882790e+00 2.14882147e+00 2.13384219e+00\n",
      " 2.01929132e+00 2.00080069e+00 1.89723903e+00 1.85417626e+00\n",
      " 1.80731354e+00 1.78616200e+00 1.73713100e+00 1.69578344e+00\n",
      " 1.63879155e+00 1.61692873e+00 1.57841970e+00 1.55750723e+00\n",
      " 1.50371274e+00 2.10615680e-04 5.60504504e-03 2.93080473e-02\n",
      " 1.46365004e+00 1.46723613e+00 3.69178833e-02 1.41926004e+00\n",
      " 1.39693315e+00 1.36957450e+00 6.76786761e-02 7.29119317e-02\n",
      " 7.71793802e-02 9.23744353e-02 9.89329909e-02 1.03571309e-01\n",
      " 1.36586986e+00 1.34969794e+00 1.29740177e-01 1.31947887e+00\n",
      " 1.30857914e+00 1.48655482e-01 1.69694729e-01 1.27268088e+00\n",
      " 1.87095649e-01 1.83001976e-01 1.25956296e+00 2.03271226e-01\n",
      " 1.89279260e-01 1.23698959e+00 2.16648237e-01 2.26759506e-01\n",
      " 2.30204802e-01 2.40387571e-01 1.23092243e+00 2.49379237e-01\n",
      " 2.58921573e-01 2.88129605e-01 2.66429760e-01 2.74949945e-01\n",
      " 2.70357357e-01 1.22141816e+00 1.19678912e+00 3.05984808e-01\n",
      " 3.09943644e-01 3.38705786e-01 3.25229163e-01 3.27681364e-01\n",
      " 1.17733402e+00 1.16896472e+00 3.66869503e-01 3.81797544e-01\n",
      " 1.14791578e+00 3.99920920e-01 1.11666006e+00 4.16645411e-01\n",
      " 4.41765028e-01 4.46709268e-01 1.10213915e+00 1.09722689e+00\n",
      " 1.08472441e+00 4.65654417e-01 4.77906354e-01 4.84178608e-01\n",
      " 1.05940930e+00 1.04328941e+00 5.10312262e-01 5.20670916e-01\n",
      " 5.30254752e-01 5.35894390e-01 5.46508409e-01 1.02837720e+00\n",
      " 5.59631335e-01 1.01899621e+00 1.01163598e+00 5.67050127e-01\n",
      " 5.94039147e-01 5.99314306e-01 6.07455378e-01 9.99710924e-01\n",
      " 6.29374462e-01 6.36994833e-01 6.41068909e-01 9.87221515e-01\n",
      " 6.56394142e-01 9.75758073e-01 9.71192164e-01 6.76407793e-01\n",
      " 9.59577471e-01 9.55227872e-01 9.35757357e-01 9.32588938e-01\n",
      " 6.95164686e-01 6.97355406e-01 7.11369855e-01 7.36742074e-01\n",
      " 7.39028695e-01 9.25202159e-01 8.06853193e-01 8.17349133e-01\n",
      " 8.29340345e-01 8.47468030e-01 8.97289485e-01 9.06779360e-01\n",
      " 8.70245545e-01 8.88586097e-01 7.76513894e-01 8.61013040e-01\n",
      " 7.94667903e-01 7.89432145e-01 9.16557467e-01 7.26539780e-01\n",
      " 8.57586033e-01 8.85176234e-01 7.78641837e-01 7.28458142e-01]\n"
     ]
    }
   ],
   "source": [
    "# Step 2- Get eigen values and eigen vector\n",
    "eig_vals, eig_vecs = np.linalg.eig(cov_matrix)\n",
    "print('Eigen Vectors \\n%s', eig_vecs)\n",
    "print('\\n Eigen Values \\n%s', eig_vals)"
   ]
  },
  {
   "cell_type": "code",
   "execution_count": 46,
   "id": "b55a3b81",
   "metadata": {},
   "outputs": [
    {
     "name": "stdout",
     "output_type": "stream",
     "text": [
      "Cumulative Variance Explained [  4.29141172   7.61594897  10.59142274  13.07690783  15.44483694\n",
      "  17.49005945  19.44824999  21.24524513  22.91463939  24.52705825\n",
      "  26.06095123  27.58415155  29.02558204  30.45381336  31.80811927\n",
      "  33.1316857   34.42180012  35.69681593  36.93683196  38.14733286\n",
      "  39.31715124  40.47136329  41.59808644  42.70988165  43.78327674\n",
      "  44.83063373  45.87543087  46.8885411   47.88571373  48.86335693\n",
      "  49.83835566  50.80181038  51.74369383  52.67779673  53.58627438\n",
      "  54.48538806  55.3683882   56.24705741  57.1189422   57.97324603\n",
      "  58.81366224  59.64810419  60.46752078  61.2646261   62.05136596\n",
      "  62.83459931  63.608908    64.36514602  65.10987718  65.84396356\n",
      "  66.5713535   67.2934895   68.00711303  68.71182125  69.40834652\n",
      "  70.10161251  70.78658759  71.46845779  72.13642936  72.80213921\n",
      "  73.46257616  74.11684227  74.76412848  75.40464052  76.03893984\n",
      "  76.67080508  77.29201236  77.9066292   78.51879974  79.12374774\n",
      "  79.71575567  80.2992039   80.87515982  81.44241752  82.00593778\n",
      "  82.56175559  83.11605441  83.64359518  84.16950369  84.68949888\n",
      "  85.20812469  85.71592175  86.21371488  86.70994421  87.1927843\n",
      "  87.66133806  88.1189522   88.57365815  89.02292445  89.45654425\n",
      "  89.88435271  90.30839561  90.71317293  91.11265451  91.50276854\n",
      "  91.88530597  92.26381766  92.63548812  92.99976426  93.34538542\n",
      "  93.68652926  94.0189273   94.33780172  94.6531468   94.95056075\n",
      "  95.23603625  95.50857475  95.77045716  96.01223547  96.24614422\n",
      "  96.47830252  96.69954956  96.91797066  97.12364618  97.31991367\n",
      "  97.51290283  97.70308835  97.88791431  98.06592866  98.23752449\n",
      "  98.40185156  98.56371927  98.71836926  98.86347033  98.99858353\n",
      "  99.13213799  99.26277027  99.38390344  99.49001816  99.58263058\n",
      "  99.65656288  99.7271842   99.79312383  99.84821678  99.9002635\n",
      "  99.94857456  99.97492765  99.99584861  99.99984966 100.        ]\n"
     ]
    }
   ],
   "source": [
    "tot = sum(eig_vals)\n",
    "var_exp = [( i /tot ) * 100 for i in sorted(eig_vals, reverse=True)]\n",
    "cum_var_exp = np.cumsum(var_exp)\n",
    "print(\"Cumulative Variance Explained\", cum_var_exp)"
   ]
  },
  {
   "cell_type": "code",
   "execution_count": 47,
   "id": "9e857de9",
   "metadata": {},
   "outputs": [
    {
     "data": {
      "text/plain": [
       "[<matplotlib.lines.Line2D at 0x2229f9e9f40>]"
      ]
     },
     "execution_count": 47,
     "metadata": {},
     "output_type": "execute_result"
    },
    {
     "data": {
      "image/png": "[encoded data removed]",
      "text/plain": [
       "<Figure size 640x480 with 1 Axes>"
      ]
     },
     "metadata": {},
     "output_type": "display_data"
    }
   ],
   "source": [
    "plt.plot(var_exp)"
   ]
  },
  {
   "cell_type": "code",
   "execution_count": 48,
   "id": "86b31b5d",
   "metadata": {},
   "outputs": [
    {
     "data": {
      "image/png": "[encoded data removed]",
      "text/plain": [
       "<Figure size 1000x500 with 1 Axes>"
      ]
     },
     "metadata": {},
     "output_type": "display_data"
    }
   ],
   "source": [
    "# Ploting \n",
    "plt.figure(figsize=(10 , 5))\n",
    "plt.bar(range(1, eig_vals.size + 1), var_exp, alpha = 0.5, align = 'center', label = 'Individual explained variance')\n",
    "plt.step(range(1, eig_vals.size + 1), cum_var_exp, where='mid', label = 'Cumulative explained variance')\n",
    "plt.ylabel('Explained Variance Ratio')\n",
    "plt.xlabel('Principal Components')\n",
    "plt.legend(loc = 'best')\n",
    "plt.tight_layout()\n",
    "plt.show()"
   ]
  },
  {
   "cell_type": "code",
   "execution_count": 49,
   "id": "74f946f7",
   "metadata": {},
   "outputs": [
    {
     "data": {
      "text/plain": [
       "array([[-2.53703578, -0.82763971, -1.17490441, ...,  2.5368744 ,\n",
       "         1.99872575,  3.14378119],\n",
       "       [-1.56690072, -1.53484335,  0.80655696, ..., -0.70542226,\n",
       "        -0.78131624,  2.12932332],\n",
       "       [ 0.20350984,  0.5247888 ,  1.21830871, ...,  0.08174117,\n",
       "        -0.01076754, -0.61292605],\n",
       "       ...,\n",
       "       [-0.59401337, -0.57568051,  0.61045133, ..., -0.13066535,\n",
       "        -0.50091019,  0.38962258],\n",
       "       [-0.20295183,  0.36192294,  0.17960247, ...,  0.11702488,\n",
       "        -0.03397249,  0.30594326],\n",
       "       [ 0.66988534,  0.39820926,  0.09793633, ...,  0.30933173,\n",
       "        -0.0371412 ,  0.27297118]])"
      ]
     },
     "execution_count": 49,
     "metadata": {},
     "output_type": "execute_result"
    }
   ],
   "source": [
    "pca = PCA(n_components=130)\n",
    "data_reduced = pca.fit_transform(x)\n",
    "data_reduced.transpose()"
   ]
  },
  {
   "cell_type": "code",
   "execution_count": 50,
   "id": "138ca798",
   "metadata": {},
   "outputs": [
    {
     "data": {
      "text/plain": [
       "array([[ 0.04898378, -0.00064877, -0.00044179, ..., -0.00652593,\n",
       "        -0.03401426, -0.03425689],\n",
       "       [-0.01277066, -0.01197015, -0.019191  , ...,  0.02589426,\n",
       "         0.01726438,  0.01432795],\n",
       "       [-0.02837966,  0.0421643 ,  0.01515619, ...,  0.00900685,\n",
       "         0.02049091,  0.08774084],\n",
       "       ...,\n",
       "       [ 0.02418075, -0.01100445,  0.03048397, ..., -0.0025355 ,\n",
       "        -0.0074462 , -0.0325953 ],\n",
       "       [-0.02450813, -0.0009908 ,  0.00803552, ...,  0.01251103,\n",
       "         0.00159319,  0.06378131],\n",
       "       [ 0.01032095,  0.00968421, -0.01406177, ...,  0.00608206,\n",
       "        -0.00895305,  0.00708396]])"
      ]
     },
     "execution_count": 50,
     "metadata": {},
     "output_type": "execute_result"
    }
   ],
   "source": [
    "pca.components_"
   ]
  },
  {
   "cell_type": "code",
   "execution_count": 51,
   "id": "19aa5679",
   "metadata": {},
   "outputs": [
    {
     "data": {
      "text/plain": [
       "(1567, 130)"
      ]
     },
     "execution_count": 51,
     "metadata": {},
     "output_type": "execute_result"
    }
   ],
   "source": [
    "data_reduced.shape"
   ]
  },
  {
   "cell_type": "markdown",
   "id": "e953c7de",
   "metadata": {},
   "source": [
    "### Display and explain the classification report in detail."
   ]
  },
  {
   "cell_type": "code",
   "execution_count": 52,
   "id": "b2fe2fcb",
   "metadata": {},
   "outputs": [
    {
     "name": "stdout",
     "output_type": "stream",
     "text": [
      "Train Classification Report:\n",
      "              precision    recall  f1-score   support\n",
      "\n",
      "          -1       0.95      1.00      0.97      1023\n",
      "           1       0.82      0.19      0.31        73\n",
      "\n",
      "    accuracy                           0.94      1096\n",
      "   macro avg       0.88      0.59      0.64      1096\n",
      "weighted avg       0.94      0.94      0.93      1096\n",
      "\n",
      "Test Classification Report:\n",
      "              precision    recall  f1-score   support\n",
      "\n",
      "          -1       0.94      0.98      0.96       440\n",
      "           1       0.12      0.03      0.05        31\n",
      "\n",
      "    accuracy                           0.92       471\n",
      "   macro avg       0.53      0.51      0.51       471\n",
      "weighted avg       0.88      0.92      0.90       471\n",
      "\n"
     ]
    }
   ],
   "source": [
    "y_pred_train = best_lr_model.predict(X_train)\n",
    "y_pred_test = best_lr_model.predict(X_test)\n",
    "\n",
    "print(\"Train Classification Report:\")\n",
    "print(classification_report(y_train, y_pred_train))\n",
    "\n",
    "print(\"Test Classification Report:\")\n",
    "print(classification_report(y_test, y_pred_test))"
   ]
  },
  {
   "cell_type": "markdown",
   "id": "6bc842ba",
   "metadata": {},
   "source": [
    "### Apply the above steps for all possible models that you have learnt so far"
   ]
  },
  {
   "cell_type": "markdown",
   "id": "c68ec00d",
   "metadata": {},
   "source": [
    "### Random Forest Classifier"
   ]
  },
  {
   "cell_type": "code",
   "execution_count": 53,
   "id": "f39e0f3f",
   "metadata": {},
   "outputs": [],
   "source": [
    "rf_model = RandomForestClassifier(n_estimators=100, random_state=1,verbose=0 )\n",
    "rf_model.fit(X_train, y_train)\n",
    "y_pred = rf_model.predict(X_test)"
   ]
  },
  {
   "cell_type": "code",
   "execution_count": 54,
   "id": "80233ef0",
   "metadata": {},
   "outputs": [
    {
     "name": "stdout",
     "output_type": "stream",
     "text": [
      "Cross-Validation Scores: [0.93181818 0.93607306 0.93607306 0.93150685 0.93150685]\n",
      "Mean CV Score: 0.933395599833956\n"
     ]
    }
   ],
   "source": [
    "cv_scores = cross_val_score(rf_model, X_train, y_train, cv=5)\n",
    "\n",
    "print(\"Cross-Validation Scores:\", cv_scores)\n",
    "print(\"Mean CV Score:\", cv_scores.mean())"
   ]
  },
  {
   "cell_type": "code",
   "execution_count": 55,
   "id": "79c28d5e",
   "metadata": {},
   "outputs": [
    {
     "name": "stdout",
     "output_type": "stream",
     "text": [
      "Best Parameters: {'max_depth': None, 'max_features': 'auto', 'min_samples_leaf': 1, 'min_samples_split': 2, 'n_estimators': 100}\n",
      "Best Score: 0.933395599833956\n",
      "Classification Report:\n",
      "              precision    recall  f1-score   support\n",
      "\n",
      "          -1       0.93      1.00      0.97       440\n",
      "           1       0.00      0.00      0.00        31\n",
      "\n",
      "    accuracy                           0.93       471\n",
      "   macro avg       0.47      0.50      0.48       471\n",
      "weighted avg       0.87      0.93      0.90       471\n",
      "\n"
     ]
    }
   ],
   "source": [
    "param_grid = {'n_estimators': [100, 200, 300], 'max_depth': [None, 5, 10], 'min_samples_split': [2, 5, 10], 'min_samples_leaf': [1, 2, 4], 'max_features': ['auto', 'sqrt', 'log2']}\n",
    "# Create an instance of the Grid Search Cross-Validation\n",
    "grid_search = GridSearchCV(estimator=rf_model, param_grid=param_grid, cv=5)\n",
    "\n",
    "# Fit the Grid Search CV on the training data\n",
    "grid_search.fit(X_train, y_train)\n",
    "\n",
    "# Get the best parameters and best score\n",
    "best_params = grid_search.best_params_\n",
    "best_score = grid_search.best_score_\n",
    "\n",
    "# Print the best parameters and best score\n",
    "print(\"Best Parameters:\", best_params)\n",
    "print(\"Best Score:\", best_score)\n",
    "\n",
    "# Create a new Random Forest classifier with the best parameters\n",
    "best_rf_model = RandomForestClassifier(random_state=1, **best_params)\n",
    "\n",
    "# Fit the model on the training data with the best parameters\n",
    "best_rf_model.fit(X_train, y_train)\n",
    "\n",
    "# Make predictions on the test data\n",
    "y_pred = best_rf_model.predict(X_test)\n",
    "\n",
    "# Evaluate the model's performance\n",
    "print(\"Classification Report:\")\n",
    "print(classification_report(y_test, y_pred))"
   ]
  },
  {
   "cell_type": "code",
   "execution_count": 56,
   "id": "e9e7d8c1",
   "metadata": {},
   "outputs": [
    {
     "name": "stdout",
     "output_type": "stream",
     "text": [
      "Accuracy:  93.41825902335457\n"
     ]
    }
   ],
   "source": [
    "print(\"Accuracy: \", rf_model.score(X_test,y_test)*100)"
   ]
  },
  {
   "cell_type": "code",
   "execution_count": 57,
   "id": "fcfc8c2f",
   "metadata": {},
   "outputs": [
    {
     "name": "stdout",
     "output_type": "stream",
     "text": [
      "Accuracy:  93.41825902335457\n"
     ]
    }
   ],
   "source": [
    "rf_model = RandomForestClassifier(n_estimators=100, random_state=1,verbose=0 )\n",
    "rf_model.fit(X_train, y_train)\n",
    "#scores_prediction = model.decision_function(x_train)\n",
    "y_pred = rf_model.predict(X_test)\n",
    "print(\"Accuracy: \", rf_model.score(X_test,y_test)*100)"
   ]
  },
  {
   "cell_type": "markdown",
   "id": "bea319a1",
   "metadata": {},
   "source": [
    "### SVM MODEL"
   ]
  },
  {
   "cell_type": "code",
   "execution_count": 58,
   "id": "22925c41",
   "metadata": {},
   "outputs": [
    {
     "name": "stdout",
     "output_type": "stream",
     "text": [
      "Best Parameters: {'C': 0.1, 'gamma': 0.1, 'kernel': 'rbf'}\n",
      "Best Score: 0.933395599833956\n",
      "Test Set Accuracy: 0.9341825902335457\n"
     ]
    }
   ],
   "source": [
    "param_grid = {'C': [0.1, 1, 10], 'kernel': ['linear', 'rbf'], 'gamma': [0.1, 1, 10]}\n",
    "svm_model = SVC()\n",
    "\n",
    "\n",
    "# Train the SVM model on the training data\n",
    "svm_model.fit(X_train, y_train)\n",
    "\n",
    "# Perform grid search with cross-validation\n",
    "grid_search = GridSearchCV(estimator=svm_model, param_grid=param_grid, cv=5)\n",
    "grid_search.fit(X_train, y_train)\n",
    "\n",
    "\n",
    "# Get the best parameters and best score\n",
    "best_params = grid_search.best_params_\n",
    "best_score = grid_search.best_score_\n",
    "\n",
    "# Train a new SVM model using the best parameters\n",
    "best_svm_model = SVC(C=best_params['C'], kernel=best_params['kernel'], gamma=best_params['gamma'])\n",
    "best_svm_model.fit(X_train, y_train)\n",
    "\n",
    "# Evaluate the performance of the best model on the test set\n",
    "accuracy = best_svm_model.score(X_test, y_test)\n",
    "\n",
    "print(\"Best Parameters:\", best_params)\n",
    "print(\"Best Score:\", best_score)\n",
    "print(\"Test Set Accuracy:\", accuracy)"
   ]
  },
  {
   "cell_type": "code",
   "execution_count": 59,
   "id": "e84bfd0e",
   "metadata": {},
   "outputs": [
    {
     "name": "stdout",
     "output_type": "stream",
     "text": [
      "Classification Report:\n",
      "              precision    recall  f1-score   support\n",
      "\n",
      "          -1       0.93      1.00      0.97       440\n",
      "           1       0.00      0.00      0.00        31\n",
      "\n",
      "    accuracy                           0.93       471\n",
      "   macro avg       0.47      0.50      0.48       471\n",
      "weighted avg       0.87      0.93      0.90       471\n",
      "\n"
     ]
    }
   ],
   "source": [
    "# Train a new SVM model using the best parameters\n",
    "best_svm_model = SVC(C=best_params['C'], kernel=best_params['kernel'], gamma=best_params['gamma'])\n",
    "best_svm_model.fit(X_train, y_train)\n",
    "\n",
    "# Evaluate the performance of the best model on the test set\n",
    "y_pred = best_svm_model.predict(X_test)\n",
    "\n",
    "# Generate the classification report\n",
    "report = classification_report(y_test, y_pred)\n",
    "\n",
    "print(\"Classification Report:\")\n",
    "print(report)"
   ]
  },
  {
   "cell_type": "code",
   "execution_count": 60,
   "id": "d4ece470",
   "metadata": {},
   "outputs": [
    {
     "name": "stdout",
     "output_type": "stream",
     "text": [
      "Train Accuracy: 0.9370437956204379\n",
      "Test Accuracy: 0.9341825902335457\n"
     ]
    }
   ],
   "source": [
    "# Calculate the accuracies on the training and test data\n",
    "train_accuracy = svm_model.score(X_train, y_train)\n",
    "test_accuracy = svm_model.score(X_test, y_test)\n",
    "print(\"Train Accuracy:\", train_accuracy)\n",
    "print(\"Test Accuracy:\", test_accuracy)"
   ]
  },
  {
   "cell_type": "markdown",
   "id": "1a9e737f",
   "metadata": {},
   "source": [
    "### Decision Tree"
   ]
  },
  {
   "cell_type": "code",
   "execution_count": 61,
   "id": "40fd9e53",
   "metadata": {},
   "outputs": [
    {
     "name": "stdout",
     "output_type": "stream",
     "text": [
      "Train Accuracy: 0.9516423357664233\n",
      "Test Accuracy: 0.9256900212314225\n"
     ]
    }
   ],
   "source": [
    "from sklearn.tree import DecisionTreeClassifier\n",
    "from sklearn.metrics import accuracy_score\n",
    "\n",
    "\n",
    "param_grid = {'criterion': ['gini', 'entropy'], 'max_depth': [3, 5, 7], 'min_samples_split': [2, 5, 10], 'min_samples_leaf': [1, 2, 4], 'random_state': [42]}\n",
    "\n",
    "# Create a decision tree model with the desired hyperparameters\n",
    "dt_model = DecisionTreeClassifier(criterion='entropy', max_depth=5, min_samples_split=5, min_samples_leaf=2, random_state=42)\n",
    "\n",
    "# Train the decision tree model on the training data\n",
    "dt_model.fit(X_train, y_train)\n",
    "\n",
    "# Perform grid search with cross-validation\n",
    "grid_search = GridSearchCV(estimator=dt_model, param_grid=param_grid, cv=5)\n",
    "grid_search.fit(X_train, y_train)\n",
    "\n",
    "# Predict the labels for the training and test data\n",
    "train_predictions = dt_model.predict(X_train)\n",
    "test_predictions = dt_model.predict(X_test)\n",
    "\n",
    "# Calculate the accuracies\n",
    "train_accuracy = accuracy_score(y_train, train_predictions)\n",
    "test_accuracy = accuracy_score(y_test, test_predictions)\n",
    "\n",
    "print(\"Train Accuracy:\", train_accuracy)\n",
    "print(\"Test Accuracy:\", test_accuracy)"
   ]
  },
  {
   "cell_type": "code",
   "execution_count": 62,
   "id": "7b3688c7",
   "metadata": {},
   "outputs": [
    {
     "name": "stdout",
     "output_type": "stream",
     "text": [
      "Classification Report:\n",
      "              precision    recall  f1-score   support\n",
      "\n",
      "          -1       0.94      0.99      0.96       440\n",
      "           1       0.25      0.06      0.10        31\n",
      "\n",
      "    accuracy                           0.93       471\n",
      "   macro avg       0.59      0.53      0.53       471\n",
      "weighted avg       0.89      0.93      0.90       471\n",
      "\n"
     ]
    }
   ],
   "source": [
    "# Predict the labels for the test data\n",
    "y_pred = dt_model.predict(X_test)\n",
    "\n",
    "# Calculate the classification report\n",
    "report = classification_report(y_test, y_pred)\n",
    "\n",
    "# Print the classification report\n",
    "print(\"Classification Report:\")\n",
    "print(report)"
   ]
  },
  {
   "cell_type": "markdown",
   "id": "cb57352c",
   "metadata": {},
   "source": [
    "### KNN"
   ]
  },
  {
   "cell_type": "code",
   "execution_count": 71,
   "id": "71c8a4a6",
   "metadata": {},
   "outputs": [
    {
     "name": "stdout",
     "output_type": "stream",
     "text": [
      "Best Parameters: {'n_neighbors': 7, 'p': 1, 'weights': 'uniform'}\n",
      "Best Score: 0.933395599833956\n",
      "Train Accuracy: 0.9343065693430657\n",
      "Test Accuracy: 0.9341825902335457\n"
     ]
    }
   ],
   "source": [
    "# Create a KNN classifier\n",
    "knn = KNeighborsClassifier()\n",
    "\n",
    "# Define the parameter grid\n",
    "param_grid = {'n_neighbors': [3, 5, 7], 'weights': ['uniform', 'distance'], 'p': [1, 2]}\n",
    "\n",
    "# Create the GridSearchCV object\n",
    "grid_search = GridSearchCV(knn, param_grid=param_grid, cv=5)\n",
    "\n",
    "# Fit the model with training data\n",
    "knn.fit(X_train, y_train)\n",
    "\n",
    "# Now you can make predictions or evaluate the model\n",
    "y_pred = knn.predict(X_test)\n",
    "\n",
    "# Fit the model to the training data\n",
    "grid_search.fit(X_train, y_train)\n",
    "\n",
    "# Get the best parameters and best score\n",
    "best_params = grid_search.best_params_\n",
    "best_score = grid_search.best_score_\n",
    "\n",
    "# Create a new KNN classifier with the best parameters\n",
    "best_knn = KNeighborsClassifier(n_neighbors=best_params['n_neighbors'], weights=best_params['weights'], p=best_params['p'])\n",
    "\n",
    "# Fit the best model to the training data\n",
    "best_knn.fit(X_train, y_train)\n",
    "\n",
    "# Predict the labels for training and test data\n",
    "y_train_pred = best_knn.predict(X_train)\n",
    "y_test_pred = best_knn.predict(X_test)\n",
    "\n",
    "# Calculate the accuracy of the model on training and test data\n",
    "train_accuracy = accuracy_score(y_train, y_train_pred)\n",
    "test_accuracy = accuracy_score(y_test, y_test_pred)\n",
    "\n",
    "# Print the best parameters and best score\n",
    "print(\"Best Parameters:\", best_params)\n",
    "print(\"Best Score:\", best_score)\n",
    "\n",
    "# Print the train and test accuracies\n",
    "print(\"Train Accuracy:\", train_accuracy)\n",
    "print(\"Test Accuracy:\", test_accuracy)"
   ]
  },
  {
   "cell_type": "code",
   "execution_count": 72,
   "id": "b34c089a",
   "metadata": {},
   "outputs": [
    {
     "name": "stdout",
     "output_type": "stream",
     "text": [
      "Classification Report:\n",
      "              precision    recall  f1-score   support\n",
      "\n",
      "          -1       0.93      1.00      0.97       440\n",
      "           1       0.00      0.00      0.00        31\n",
      "\n",
      "    accuracy                           0.93       471\n",
      "   macro avg       0.47      0.50      0.48       471\n",
      "weighted avg       0.87      0.93      0.90       471\n",
      "\n"
     ]
    }
   ],
   "source": [
    "# Predict the labels for the test data using the best KNN model\n",
    "y_test_pred = best_knn.predict(X_test)\n",
    "\n",
    "# Generate the classification report\n",
    "report = classification_report(y_test, y_test_pred)\n",
    "\n",
    "print(\"Classification Report:\")\n",
    "print(report)"
   ]
  },
  {
   "cell_type": "markdown",
   "id": "3f6001fd",
   "metadata": {},
   "source": [
    "### Naive Bayes classification"
   ]
  },
  {
   "cell_type": "code",
   "execution_count": 73,
   "id": "d0613de6",
   "metadata": {},
   "outputs": [
    {
     "name": "stdout",
     "output_type": "stream",
     "text": [
      "Train Accuracy: 0.2874087591240876\n",
      "Test Accuracy: 0.22929936305732485\n"
     ]
    }
   ],
   "source": [
    "# Create a Naive Bayes classifier\n",
    "nb = GaussianNB()\n",
    "\n",
    "# Fit the model to the training data\n",
    "nb.fit(X_train, y_train)\n",
    "\n",
    "# Predict the labels for training and test data\n",
    "y_train_pred = nb.predict(X_train)\n",
    "y_test_pred = nb.predict(X_test)\n",
    "\n",
    "# Calculate the accuracy of the model on training and test data\n",
    "train_accuracy = accuracy_score(y_train, y_train_pred)\n",
    "test_accuracy = accuracy_score(y_test, y_test_pred)\n",
    "\n",
    "# Print the train and test accuracies\n",
    "print(\"Train Accuracy:\", train_accuracy)\n",
    "print(\"Test Accuracy:\", test_accuracy)"
   ]
  },
  {
   "cell_type": "code",
   "execution_count": 74,
   "id": "1cb0ef92",
   "metadata": {},
   "outputs": [
    {
     "name": "stdout",
     "output_type": "stream",
     "text": [
      "Classification Report:\n",
      "              precision    recall  f1-score   support\n",
      "\n",
      "          -1       0.92      0.19      0.32       440\n",
      "           1       0.06      0.77      0.12        31\n",
      "\n",
      "    accuracy                           0.23       471\n",
      "   macro avg       0.49      0.48      0.22       471\n",
      "weighted avg       0.87      0.23      0.30       471\n",
      "\n"
     ]
    }
   ],
   "source": [
    "# Predict the labels for the test data using the Naive Bayes model\n",
    "y_test_pred = nb.predict(X_test)\n",
    "\n",
    "# Generate the classification report\n",
    "report = classification_report(y_test, y_test_pred)\n",
    "\n",
    "print(\"Classification Report:\")\n",
    "print(report)"
   ]
  },
  {
   "cell_type": "markdown",
   "id": "dcaff298",
   "metadata": {},
   "source": [
    "### Post Training and Conclusion:"
   ]
  },
  {
   "cell_type": "markdown",
   "id": "f5420b14",
   "metadata": {},
   "source": [
    "### Display and compare all the models designed with their train and test accuracies."
   ]
  },
  {
   "cell_type": "code",
   "execution_count": 75,
   "id": "9ca174cd",
   "metadata": {},
   "outputs": [],
   "source": [
    "models = {\"Logistic Regression\": lr_model, \"SVM\": svm_model, \"Random Forest\": rf_model, \"Decision Tree\": dt_model, \"KNN\": knn, \"Naive Bayes\": nb}"
   ]
  },
  {
   "cell_type": "code",
   "execution_count": 76,
   "id": "71d66924",
   "metadata": {},
   "outputs": [],
   "source": [
    "model_names = []\n",
    "train_accuracies = []\n",
    "test_accuracies = []"
   ]
  },
  {
   "cell_type": "code",
   "execution_count": 77,
   "id": "309905ea",
   "metadata": {},
   "outputs": [],
   "source": [
    "for model_name, model in models.items():\n",
    "    model_names.append(model_name)\n",
    "    train_pred = model.predict(X_train)\n",
    "    test_pred = model.predict(X_test)\n",
    "    train_accuracy = accuracy_score(y_train, train_pred)\n",
    "    test_accuracy = accuracy_score(y_test, test_pred)\n",
    "    train_accuracies.append(train_accuracy)\n",
    "    test_accuracies.append(test_accuracy)"
   ]
  },
  {
   "cell_type": "code",
   "execution_count": 78,
   "id": "141523db",
   "metadata": {},
   "outputs": [
    {
     "name": "stdout",
     "output_type": "stream",
     "text": [
      "                 Model  Train Accuracy  Test Accuracy\n",
      "0  Logistic Regression        0.950730       0.895966\n",
      "1                  SVM        0.937044       0.934183\n",
      "2        Random Forest        1.000000       0.934183\n",
      "3        Decision Tree        0.951642       0.925690\n",
      "4                  KNN        0.934307       0.932059\n",
      "5          Naive Bayes        0.287409       0.229299\n"
     ]
    }
   ],
   "source": [
    "results_df = pd.DataFrame({\"Model\": model_names, \"Train Accuracy\": train_accuracies, \"Test Accuracy\": test_accuracies})\n",
    "print(results_df)"
   ]
  },
  {
   "cell_type": "markdown",
   "id": "050b7b42",
   "metadata": {},
   "source": [
    "### Select the final best trained model along with your detailed comments for selecting this model."
   ]
  },
  {
   "cell_type": "code",
   "execution_count": 82,
   "id": "a5a935fe",
   "metadata": {},
   "outputs": [
    {
     "name": "stdout",
     "output_type": "stream",
     "text": [
      "Model\t\t\tCV Accuracy\t\tAccuracy\t\tPrecision\t\tRecall\t\tF1 Score\t\t\n",
      "-------------------------------------------------------------\n",
      "Logistic Regression\t\t0.8960\t\t0.8960\t\t0.1250\t\t0.0968\t\t0.1091\t\t\n",
      "SVM\t\t0.9334\t\t0.9342\t\t0.0000\t\t0.0000\t\t0.0000\t\t\n",
      "KNN\t\t0.9307\t\t0.9321\t\t0.3333\t\t0.0323\t\t0.0588\t\t\n",
      "Naive Bayes\t\t0.3011\t\t0.2293\t\t0.0632\t\t0.7742\t\t0.1168\t\t\n",
      "Decision Tree\t\t0.8787\t\t0.8811\t\t0.0370\t\t0.0323\t\t0.0345\t\t\n",
      "Random Forest\t\t0.9334\t\t0.9342\t\t0.0000\t\t0.0000\t\t0.0000\t\t\n",
      "\n",
      "Best Trained Model: SVM\n"
     ]
    }
   ],
   "source": [
    "# Define your evaluation metrics\n",
    "metrics = {'Accuracy': accuracy_score, 'Precision': precision_score, 'Recall': recall_score, 'F1 Score': f1_score,}\n",
    "\n",
    "# Initialize models\n",
    "models = {\"Logistic Regression\": lr_model,\"SVM\": svm_model,\"KNN\": knn,\"Naive Bayes\": nb, \"Decision Tree\": DecisionTreeClassifier(), \"Random Forest\": RandomForestClassifier()}\n",
    "# Perform cross-validation and calculate evaluation metrics for each model\n",
    "results = {}\n",
    "for model_name, model in models.items():\n",
    "    scores = cross_val_score(model, X_train, y_train, cv=5, scoring='accuracy')\n",
    "    y_pred = model.fit(X_train, y_train).predict(X_test)\n",
    "    metric_scores = [metric(y_test, y_pred) for metric in metrics.values()]\n",
    "    results[model_name] = {'CV Accuracy': scores.mean(), 'Metrics': metric_scores}\n",
    "\n",
    "# Print the results\n",
    "print(\"Model\\t\\t\\tCV Accuracy\\t\\t\", end=\"\")\n",
    "for metric in metrics.keys():\n",
    "    print(metric, end=\"\\t\\t\")\n",
    "print(\"\\n-------------------------------------------------------------\")\n",
    "for model_name, result in results.items():\n",
    "    print(f\"{model_name}\\t\\t{result['CV Accuracy']:.4f}\\t\\t\", end=\"\")\n",
    "    for score in result['Metrics']:\n",
    "        print(f\"{score:.4f}\", end=\"\\t\\t\")\n",
    "    print()\n",
    "\n",
    "# Select the best trained model based on a specific evaluation metric\n",
    "best_model = max(results, key=lambda x: results[x]['CV Accuracy'])\n",
    "\n",
    "# Print the best model\n",
    "print(\"\\nBest Trained Model:\", best_model)"
   ]
  },
  {
   "cell_type": "markdown",
   "id": "efaa5c94",
   "metadata": {},
   "source": [
    "### Pickle the selected model for future use"
   ]
  },
  {
   "cell_type": "code",
   "execution_count": 90,
   "id": "e5b2dd68",
   "metadata": {},
   "outputs": [],
   "source": [
    "selected_model = models[best_model]"
   ]
  },
  {
   "cell_type": "code",
   "execution_count": 91,
   "id": "e8e0cd9e",
   "metadata": {},
   "outputs": [
    {
     "data": {
      "text/plain": [
       "SVC()"
      ]
     },
     "execution_count": 91,
     "metadata": {},
     "output_type": "execute_result"
    }
   ],
   "source": [
    "selected_model.fit(X_train, y_train)"
   ]
  },
  {
   "cell_type": "code",
   "execution_count": 93,
   "id": "1c57f899",
   "metadata": {},
   "outputs": [],
   "source": [
    "import os\n",
    "\n",
    "directory = os.getcwd()  # Current working directory\n",
    "file_path = os.path.join(directory, 'selected_model.pkl')"
   ]
  },
  {
   "cell_type": "markdown",
   "id": "3ebc03f3",
   "metadata": {},
   "source": [
    "### Conclusion on the results."
   ]
  },
  {
   "cell_type": "markdown",
   "id": "88cf5e80",
   "metadata": {},
   "source": [
    "The SVM model achieved the highest accuracy and cross-validation accuracy among the tested models. However, the precision, recall, and F1 scores for the SVM model indicate poor performance in correctly identifying the failure instances (positive class).The selected SVM model can be considered the best-trained model for predicting the pass/fail yield in the semiconductor manufacturing process."
   ]
  },
  {
   "cell_type": "code",
   "execution_count": null,
   "id": "16640aff",
   "metadata": {},
   "outputs": [],
   "source": []
  }
 ],
 "metadata": {
  "kernelspec": {
   "display_name": "Python 3 (ipykernel)",
   "language": "python",
   "name": "python3"
  },
  "language_info": {
   "codemirror_mode": {
    "name": "ipython",
    "version": 3
   },
   "file_extension": ".py",
   "mimetype": "text/x-python",
   "name": "python",
   "nbconvert_exporter": "python",
   "pygments_lexer": "ipython3",
   "version": "3.9.13"
  }
 },
 "nbformat": 4,
 "nbformat_minor": 5
}
